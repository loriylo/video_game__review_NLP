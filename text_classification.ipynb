{
  "nbformat": 4,
  "nbformat_minor": 0,
  "metadata": {
    "colab": {
      "name": "text_classification.ipynb",
      "provenance": [],
      "collapsed_sections": [
        "AxqeDYH7QY_s",
        "J7c70pnTSQBh",
        "cX_sBQ0D8tbg"
      ]
    },
    "kernelspec": {
      "name": "python3",
      "display_name": "Python 3"
    },
    "language_info": {
      "name": "python"
    }
  },
  "cells": [
    {
      "cell_type": "code",
      "metadata": {
        "colab": {
          "base_uri": "https://localhost:8080/",
          "height": 212
        },
        "id": "IBikC8fdPE_V",
        "outputId": "a4dbc98a-496c-46a9-e7f6-cdc942093328"
      },
      "source": [
        "!wget https://www.dl.dropboxusercontent.com/s/lp7f9h74ebwnf97/steam_reviews.csv?dl=0"
      ],
      "execution_count": 49,
      "outputs": [
        {
          "output_type": "display_data",
          "data": {
            "text/html": [
              "\n",
              "  <style>\n",
              "    pre {\n",
              "        white-space: pre-wrap;\n",
              "    }\n",
              "  </style>\n",
              "  "
            ],
            "text/plain": [
              "<IPython.core.display.HTML object>"
            ]
          },
          "metadata": {}
        },
        {
          "output_type": "stream",
          "name": "stdout",
          "text": [
            "--2021-10-31 22:14:24--  https://www.dl.dropboxusercontent.com/s/lp7f9h74ebwnf97/steam_reviews.csv?dl=0\n",
            "Resolving www.dl.dropboxusercontent.com (www.dl.dropboxusercontent.com)... 162.125.5.15, 2620:100:601d:15::a27d:50f\n",
            "Connecting to www.dl.dropboxusercontent.com (www.dl.dropboxusercontent.com)|162.125.5.15|:443... connected.\n",
            "HTTP request sent, awaiting response... 200 OK\n",
            "Length: 120722076 (115M) [text/csv]\n",
            "Saving to: ‘steam_reviews.csv?dl=0.1’\n",
            "\n",
            "steam_reviews.csv?d 100%[===================>] 115.13M  65.4MB/s    in 1.8s    \n",
            "\n",
            "2021-10-31 22:14:27 (65.4 MB/s) - ‘steam_reviews.csv?dl=0.1’ saved [120722076/120722076]\n",
            "\n"
          ]
        }
      ]
    },
    {
      "cell_type": "markdown",
      "metadata": {
        "id": "AxqeDYH7QY_s"
      },
      "source": [
        "## Initial EDA\n",
        "\n",
        "The focus for this dataset is text classification, based on solely two features: `recommendation` and `review`. We will be creating a model that will classify a game review as recommended or not recommended. \n",
        "Before we do any sort of model creation, first we will focus on performing exploratory data analysis in order to better understand our data. Some of the observations we will be making consist of:\n",
        "- The distribution of the recomendation column\n",
        "- The top words in the reviews column\n",
        "- The overall number of words\n",
        "- Average words per review"
      ]
    },
    {
      "cell_type": "code",
      "metadata": {
        "id": "vArT_aZQUni6"
      },
      "source": [
        "# trick to wrap text to the viewing window for this notebook\n",
        "# Ref: https://stackoverflow.com/questions/58890109/line-wrapping-in-collaboratory-google-results\n",
        "from IPython.display import HTML, display\n",
        "\n",
        "def set_css():\n",
        "  display(HTML('''\n",
        "  <style>\n",
        "    pre {\n",
        "        white-space: pre-wrap;\n",
        "    }\n",
        "  </style>\n",
        "  '''))\n",
        "get_ipython().events.register('pre_run_cell', set_css)"
      ],
      "execution_count": 3,
      "outputs": []
    },
    {
      "cell_type": "code",
      "metadata": {
        "colab": {
          "base_uri": "https://localhost:8080/",
          "height": 34
        },
        "id": "EnOmyODiP0Xa",
        "outputId": "e4af54ab-00ca-47ca-b42a-2c37dd63797c"
      },
      "source": [
        "import pandas as pd\n",
        "from sklearn.model_selection import train_test_split\n",
        "\n",
        "# Read in the data\n",
        "steam = pd.read_csv(\"/content/steam_reviews.csv?dl=0\")\n",
        "\n",
        "# Create training and test set to avoid information leakage\n",
        "steam_train, steam_test = train_test_split(steam, test_size=0.2, random_state=42)\n",
        "\n",
        "\n",
        "print(f\"Total number of instances: {len(steam_train)}\")"
      ],
      "execution_count": 176,
      "outputs": [
        {
          "output_type": "display_data",
          "data": {
            "text/html": [
              "\n",
              "  <style>\n",
              "    pre {\n",
              "        white-space: pre-wrap;\n",
              "    }\n",
              "  </style>\n",
              "  "
            ],
            "text/plain": [
              "<IPython.core.display.HTML object>"
            ]
          },
          "metadata": {}
        },
        {
          "output_type": "stream",
          "name": "stdout",
          "text": [
            "Total number of instances: 347912\n"
          ]
        }
      ]
    },
    {
      "cell_type": "code",
      "metadata": {
        "colab": {
          "base_uri": "https://localhost:8080/",
          "height": 218
        },
        "id": "6o_qNeq2SU_X",
        "outputId": "a98eeff8-6d93-425a-dd2a-503555dcba85"
      },
      "source": [
        "steam_train.head()"
      ],
      "execution_count": 51,
      "outputs": [
        {
          "output_type": "display_data",
          "data": {
            "text/html": [
              "\n",
              "  <style>\n",
              "    pre {\n",
              "        white-space: pre-wrap;\n",
              "    }\n",
              "  </style>\n",
              "  "
            ],
            "text/plain": [
              "<IPython.core.display.HTML object>"
            ]
          },
          "metadata": {}
        },
        {
          "output_type": "execute_result",
          "data": {
            "text/html": [
              "<div>\n",
              "<style scoped>\n",
              "    .dataframe tbody tr th:only-of-type {\n",
              "        vertical-align: middle;\n",
              "    }\n",
              "\n",
              "    .dataframe tbody tr th {\n",
              "        vertical-align: top;\n",
              "    }\n",
              "\n",
              "    .dataframe thead th {\n",
              "        text-align: right;\n",
              "    }\n",
              "</style>\n",
              "<table border=\"1\" class=\"dataframe\">\n",
              "  <thead>\n",
              "    <tr style=\"text-align: right;\">\n",
              "      <th></th>\n",
              "      <th>date_posted</th>\n",
              "      <th>funny</th>\n",
              "      <th>helpful</th>\n",
              "      <th>hour_played</th>\n",
              "      <th>is_early_access_review</th>\n",
              "      <th>recommendation</th>\n",
              "      <th>review</th>\n",
              "      <th>title</th>\n",
              "    </tr>\n",
              "  </thead>\n",
              "  <tbody>\n",
              "    <tr>\n",
              "      <th>114132</th>\n",
              "      <td>2017-06-15</td>\n",
              "      <td>0</td>\n",
              "      <td>0</td>\n",
              "      <td>290</td>\n",
              "      <td>False</td>\n",
              "      <td>Not Recommended</td>\n",
              "      <td>Going after single player mods? Do you want a ...</td>\n",
              "      <td>Grand Theft Auto V</td>\n",
              "    </tr>\n",
              "    <tr>\n",
              "      <th>293152</th>\n",
              "      <td>2017-09-24</td>\n",
              "      <td>1</td>\n",
              "      <td>1</td>\n",
              "      <td>72</td>\n",
              "      <td>True</td>\n",
              "      <td>Recommended</td>\n",
              "      <td>got a headshot with a crossbow 10/10</td>\n",
              "      <td>PLAYERUNKNOWN'S BATTLEGROUNDS</td>\n",
              "    </tr>\n",
              "    <tr>\n",
              "      <th>115139</th>\n",
              "      <td>2018-03-24</td>\n",
              "      <td>1</td>\n",
              "      <td>3</td>\n",
              "      <td>4647</td>\n",
              "      <td>False</td>\n",
              "      <td>Not Recommended</td>\n",
              "      <td>After 3466 hours of enjoyable gameplay and hit...</td>\n",
              "      <td>Grand Theft Auto V</td>\n",
              "    </tr>\n",
              "    <tr>\n",
              "      <th>205435</th>\n",
              "      <td>2016-11-24</td>\n",
              "      <td>0</td>\n",
              "      <td>0</td>\n",
              "      <td>38</td>\n",
              "      <td>False</td>\n",
              "      <td>Recommended</td>\n",
              "      <td>is nice</td>\n",
              "      <td>Grand Theft Auto V</td>\n",
              "    </tr>\n",
              "    <tr>\n",
              "      <th>416865</th>\n",
              "      <td>2017-10-27</td>\n",
              "      <td>0</td>\n",
              "      <td>0</td>\n",
              "      <td>82</td>\n",
              "      <td>True</td>\n",
              "      <td>Recommended</td>\n",
              "      <td>really fun game but you will need friends to h...</td>\n",
              "      <td>Rust</td>\n",
              "    </tr>\n",
              "  </tbody>\n",
              "</table>\n",
              "</div>"
            ],
            "text/plain": [
              "       date_posted  ...                          title\n",
              "114132  2017-06-15  ...             Grand Theft Auto V\n",
              "293152  2017-09-24  ...  PLAYERUNKNOWN'S BATTLEGROUNDS\n",
              "115139  2018-03-24  ...             Grand Theft Auto V\n",
              "205435  2016-11-24  ...             Grand Theft Auto V\n",
              "416865  2017-10-27  ...                           Rust\n",
              "\n",
              "[5 rows x 8 columns]"
            ]
          },
          "metadata": {},
          "execution_count": 51
        }
      ]
    },
    {
      "cell_type": "code",
      "metadata": {
        "colab": {
          "base_uri": "https://localhost:8080/",
          "height": 252
        },
        "id": "vyABkyqXSWB_",
        "outputId": "18ea1ce5-105b-4ddd-a9e2-23f38c767099"
      },
      "source": [
        "steam_train.tail()"
      ],
      "execution_count": 52,
      "outputs": [
        {
          "output_type": "display_data",
          "data": {
            "text/html": [
              "\n",
              "  <style>\n",
              "    pre {\n",
              "        white-space: pre-wrap;\n",
              "    }\n",
              "  </style>\n",
              "  "
            ],
            "text/plain": [
              "<IPython.core.display.HTML object>"
            ]
          },
          "metadata": {}
        },
        {
          "output_type": "execute_result",
          "data": {
            "text/html": [
              "<div>\n",
              "<style scoped>\n",
              "    .dataframe tbody tr th:only-of-type {\n",
              "        vertical-align: middle;\n",
              "    }\n",
              "\n",
              "    .dataframe tbody tr th {\n",
              "        vertical-align: top;\n",
              "    }\n",
              "\n",
              "    .dataframe thead th {\n",
              "        text-align: right;\n",
              "    }\n",
              "</style>\n",
              "<table border=\"1\" class=\"dataframe\">\n",
              "  <thead>\n",
              "    <tr style=\"text-align: right;\">\n",
              "      <th></th>\n",
              "      <th>date_posted</th>\n",
              "      <th>funny</th>\n",
              "      <th>helpful</th>\n",
              "      <th>hour_played</th>\n",
              "      <th>is_early_access_review</th>\n",
              "      <th>recommendation</th>\n",
              "      <th>review</th>\n",
              "      <th>title</th>\n",
              "    </tr>\n",
              "  </thead>\n",
              "  <tbody>\n",
              "    <tr>\n",
              "      <th>259178</th>\n",
              "      <td>2017-11-02</td>\n",
              "      <td>0</td>\n",
              "      <td>0</td>\n",
              "      <td>598</td>\n",
              "      <td>True</td>\n",
              "      <td>Not Recommended</td>\n",
              "      <td>overheading my GPU on low settings while nothi...</td>\n",
              "      <td>PLAYERUNKNOWN'S BATTLEGROUNDS</td>\n",
              "    </tr>\n",
              "    <tr>\n",
              "      <th>365838</th>\n",
              "      <td>2018-02-20</td>\n",
              "      <td>2</td>\n",
              "      <td>3</td>\n",
              "      <td>702</td>\n",
              "      <td>False</td>\n",
              "      <td>Recommended</td>\n",
              "      <td>Trust No One</td>\n",
              "      <td>Rust</td>\n",
              "    </tr>\n",
              "    <tr>\n",
              "      <th>131932</th>\n",
              "      <td>2018-05-27</td>\n",
              "      <td>0</td>\n",
              "      <td>0</td>\n",
              "      <td>13</td>\n",
              "      <td>False</td>\n",
              "      <td>Recommended</td>\n",
              "      <td>welcome to the world of los santos</td>\n",
              "      <td>Grand Theft Auto V</td>\n",
              "    </tr>\n",
              "    <tr>\n",
              "      <th>146867</th>\n",
              "      <td>2017-01-25</td>\n",
              "      <td>2</td>\n",
              "      <td>1</td>\n",
              "      <td>457</td>\n",
              "      <td>False</td>\n",
              "      <td>Not Recommended</td>\n",
              "      <td>Game sucks and Rockstar can go eat a .</td>\n",
              "      <td>Grand Theft Auto V</td>\n",
              "    </tr>\n",
              "    <tr>\n",
              "      <th>121958</th>\n",
              "      <td>2017-06-15</td>\n",
              "      <td>0</td>\n",
              "      <td>0</td>\n",
              "      <td>275</td>\n",
              "      <td>False</td>\n",
              "      <td>Not Recommended</td>\n",
              "      <td>Modding is what keeps GTA games alive take 2's...</td>\n",
              "      <td>Grand Theft Auto V</td>\n",
              "    </tr>\n",
              "  </tbody>\n",
              "</table>\n",
              "</div>"
            ],
            "text/plain": [
              "       date_posted  ...                          title\n",
              "259178  2017-11-02  ...  PLAYERUNKNOWN'S BATTLEGROUNDS\n",
              "365838  2018-02-20  ...                           Rust\n",
              "131932  2018-05-27  ...             Grand Theft Auto V\n",
              "146867  2017-01-25  ...             Grand Theft Auto V\n",
              "121958  2017-06-15  ...             Grand Theft Auto V\n",
              "\n",
              "[5 rows x 8 columns]"
            ]
          },
          "metadata": {},
          "execution_count": 52
        }
      ]
    },
    {
      "cell_type": "code",
      "metadata": {
        "colab": {
          "base_uri": "https://localhost:8080/",
          "height": 87
        },
        "id": "FVKgEHGyZclp",
        "outputId": "afb72eb3-69bb-4ae4-8421-3697e7426149"
      },
      "source": [
        "# Check for null values\n",
        "steam_train.isnull().value_counts()"
      ],
      "execution_count": 53,
      "outputs": [
        {
          "output_type": "display_data",
          "data": {
            "text/html": [
              "\n",
              "  <style>\n",
              "    pre {\n",
              "        white-space: pre-wrap;\n",
              "    }\n",
              "  </style>\n",
              "  "
            ],
            "text/plain": [
              "<IPython.core.display.HTML object>"
            ]
          },
          "metadata": {}
        },
        {
          "output_type": "execute_result",
          "data": {
            "text/plain": [
              "date_posted  funny  helpful  hour_played  is_early_access_review  recommendation  review  title\n",
              "False        False  False    False        False                   False           False   False    346695\n",
              "                                                                                  True    False      1217\n",
              "dtype: int64"
            ]
          },
          "metadata": {},
          "execution_count": 53
        }
      ]
    },
    {
      "cell_type": "code",
      "metadata": {
        "colab": {
          "base_uri": "https://localhost:8080/",
          "height": 414
        },
        "id": "bMRew-RMaIgi",
        "outputId": "b103f394-345b-4ec6-f80d-2f73e2546f50"
      },
      "source": [
        "# Take closer look at the null values\n",
        "steam_train[steam_train[\"review\"].isnull() == True]"
      ],
      "execution_count": 54,
      "outputs": [
        {
          "output_type": "display_data",
          "data": {
            "text/html": [
              "\n",
              "  <style>\n",
              "    pre {\n",
              "        white-space: pre-wrap;\n",
              "    }\n",
              "  </style>\n",
              "  "
            ],
            "text/plain": [
              "<IPython.core.display.HTML object>"
            ]
          },
          "metadata": {}
        },
        {
          "output_type": "execute_result",
          "data": {
            "text/html": [
              "<div>\n",
              "<style scoped>\n",
              "    .dataframe tbody tr th:only-of-type {\n",
              "        vertical-align: middle;\n",
              "    }\n",
              "\n",
              "    .dataframe tbody tr th {\n",
              "        vertical-align: top;\n",
              "    }\n",
              "\n",
              "    .dataframe thead th {\n",
              "        text-align: right;\n",
              "    }\n",
              "</style>\n",
              "<table border=\"1\" class=\"dataframe\">\n",
              "  <thead>\n",
              "    <tr style=\"text-align: right;\">\n",
              "      <th></th>\n",
              "      <th>date_posted</th>\n",
              "      <th>funny</th>\n",
              "      <th>helpful</th>\n",
              "      <th>hour_played</th>\n",
              "      <th>is_early_access_review</th>\n",
              "      <th>recommendation</th>\n",
              "      <th>review</th>\n",
              "      <th>title</th>\n",
              "    </tr>\n",
              "  </thead>\n",
              "  <tbody>\n",
              "    <tr>\n",
              "      <th>219104</th>\n",
              "      <td>2018-06-08</td>\n",
              "      <td>1</td>\n",
              "      <td>3</td>\n",
              "      <td>205</td>\n",
              "      <td>False</td>\n",
              "      <td>Not Recommended</td>\n",
              "      <td>NaN</td>\n",
              "      <td>PLAYERUNKNOWN'S BATTLEGROUNDS</td>\n",
              "    </tr>\n",
              "    <tr>\n",
              "      <th>327810</th>\n",
              "      <td>2017-10-04</td>\n",
              "      <td>0</td>\n",
              "      <td>0</td>\n",
              "      <td>385</td>\n",
              "      <td>True</td>\n",
              "      <td>Recommended</td>\n",
              "      <td>NaN</td>\n",
              "      <td>PLAYERUNKNOWN'S BATTLEGROUNDS</td>\n",
              "    </tr>\n",
              "    <tr>\n",
              "      <th>344393</th>\n",
              "      <td>2018-01-23</td>\n",
              "      <td>0</td>\n",
              "      <td>0</td>\n",
              "      <td>167</td>\n",
              "      <td>False</td>\n",
              "      <td>Not Recommended</td>\n",
              "      <td>NaN</td>\n",
              "      <td>PLAYERUNKNOWN'S BATTLEGROUNDS</td>\n",
              "    </tr>\n",
              "    <tr>\n",
              "      <th>224644</th>\n",
              "      <td>2018-04-15</td>\n",
              "      <td>1</td>\n",
              "      <td>1</td>\n",
              "      <td>65</td>\n",
              "      <td>False</td>\n",
              "      <td>Recommended</td>\n",
              "      <td>NaN</td>\n",
              "      <td>PLAYERUNKNOWN'S BATTLEGROUNDS</td>\n",
              "    </tr>\n",
              "    <tr>\n",
              "      <th>265681</th>\n",
              "      <td>2017-09-09</td>\n",
              "      <td>4294967295</td>\n",
              "      <td>2</td>\n",
              "      <td>364</td>\n",
              "      <td>True</td>\n",
              "      <td>Not Recommended</td>\n",
              "      <td>NaN</td>\n",
              "      <td>PLAYERUNKNOWN'S BATTLEGROUNDS</td>\n",
              "    </tr>\n",
              "    <tr>\n",
              "      <th>...</th>\n",
              "      <td>...</td>\n",
              "      <td>...</td>\n",
              "      <td>...</td>\n",
              "      <td>...</td>\n",
              "      <td>...</td>\n",
              "      <td>...</td>\n",
              "      <td>...</td>\n",
              "      <td>...</td>\n",
              "    </tr>\n",
              "    <tr>\n",
              "      <th>335623</th>\n",
              "      <td>2018-02-20</td>\n",
              "      <td>0</td>\n",
              "      <td>0</td>\n",
              "      <td>624</td>\n",
              "      <td>False</td>\n",
              "      <td>Not Recommended</td>\n",
              "      <td>NaN</td>\n",
              "      <td>PLAYERUNKNOWN'S BATTLEGROUNDS</td>\n",
              "    </tr>\n",
              "    <tr>\n",
              "      <th>210176</th>\n",
              "      <td>2018-11-25</td>\n",
              "      <td>0</td>\n",
              "      <td>0</td>\n",
              "      <td>0</td>\n",
              "      <td>False</td>\n",
              "      <td>Recommended</td>\n",
              "      <td>NaN</td>\n",
              "      <td>Grand Theft Auto V</td>\n",
              "    </tr>\n",
              "    <tr>\n",
              "      <th>340896</th>\n",
              "      <td>2018-01-12</td>\n",
              "      <td>0</td>\n",
              "      <td>0</td>\n",
              "      <td>137</td>\n",
              "      <td>False</td>\n",
              "      <td>Not Recommended</td>\n",
              "      <td>NaN</td>\n",
              "      <td>PLAYERUNKNOWN'S BATTLEGROUNDS</td>\n",
              "    </tr>\n",
              "    <tr>\n",
              "      <th>296764</th>\n",
              "      <td>2017-12-19</td>\n",
              "      <td>0</td>\n",
              "      <td>0</td>\n",
              "      <td>38</td>\n",
              "      <td>False</td>\n",
              "      <td>Recommended</td>\n",
              "      <td>NaN</td>\n",
              "      <td>PLAYERUNKNOWN'S BATTLEGROUNDS</td>\n",
              "    </tr>\n",
              "    <tr>\n",
              "      <th>348951</th>\n",
              "      <td>2018-01-07</td>\n",
              "      <td>0</td>\n",
              "      <td>0</td>\n",
              "      <td>82</td>\n",
              "      <td>False</td>\n",
              "      <td>Recommended</td>\n",
              "      <td>NaN</td>\n",
              "      <td>PLAYERUNKNOWN'S BATTLEGROUNDS</td>\n",
              "    </tr>\n",
              "  </tbody>\n",
              "</table>\n",
              "<p>1217 rows × 8 columns</p>\n",
              "</div>"
            ],
            "text/plain": [
              "       date_posted       funny  ...  review                          title\n",
              "219104  2018-06-08           1  ...     NaN  PLAYERUNKNOWN'S BATTLEGROUNDS\n",
              "327810  2017-10-04           0  ...     NaN  PLAYERUNKNOWN'S BATTLEGROUNDS\n",
              "344393  2018-01-23           0  ...     NaN  PLAYERUNKNOWN'S BATTLEGROUNDS\n",
              "224644  2018-04-15           1  ...     NaN  PLAYERUNKNOWN'S BATTLEGROUNDS\n",
              "265681  2017-09-09  4294967295  ...     NaN  PLAYERUNKNOWN'S BATTLEGROUNDS\n",
              "...            ...         ...  ...     ...                            ...\n",
              "335623  2018-02-20           0  ...     NaN  PLAYERUNKNOWN'S BATTLEGROUNDS\n",
              "210176  2018-11-25           0  ...     NaN             Grand Theft Auto V\n",
              "340896  2018-01-12           0  ...     NaN  PLAYERUNKNOWN'S BATTLEGROUNDS\n",
              "296764  2017-12-19           0  ...     NaN  PLAYERUNKNOWN'S BATTLEGROUNDS\n",
              "348951  2018-01-07           0  ...     NaN  PLAYERUNKNOWN'S BATTLEGROUNDS\n",
              "\n",
              "[1217 rows x 8 columns]"
            ]
          },
          "metadata": {},
          "execution_count": 54
        }
      ]
    },
    {
      "cell_type": "markdown",
      "metadata": {
        "id": "vVpNgdY2ZmDZ"
      },
      "source": [
        "It seems like there are a couple of null values only in our reviews column. This is one of the two main important feature columns. As such, we will remove the rows that have null values in them."
      ]
    },
    {
      "cell_type": "code",
      "metadata": {
        "id": "yUKku3TQa9Eu",
        "colab": {
          "base_uri": "https://localhost:8080/",
          "height": 16
        },
        "outputId": "a497172a-bcd0-43b6-aced-e1756e7d1892"
      },
      "source": [
        "# Remove the null rows\n",
        "steam_train = steam_train[steam_train[\"review\"].isnull() == False]"
      ],
      "execution_count": 177,
      "outputs": [
        {
          "output_type": "display_data",
          "data": {
            "text/html": [
              "\n",
              "  <style>\n",
              "    pre {\n",
              "        white-space: pre-wrap;\n",
              "    }\n",
              "  </style>\n",
              "  "
            ],
            "text/plain": [
              "<IPython.core.display.HTML object>"
            ]
          },
          "metadata": {}
        }
      ]
    },
    {
      "cell_type": "code",
      "metadata": {
        "colab": {
          "base_uri": "https://localhost:8080/",
          "height": 16
        },
        "id": "56_C5uBc7yAV",
        "outputId": "7e46f24b-e38f-417f-dcf2-9e672a35ac98"
      },
      "source": [
        "def random_sample(df, samples=5, column='review'):\n",
        "  \"\"\"This function prints out 5 random rows with their respective\n",
        "  class and review text\"\"\"\n",
        "  for i, row in df.sample(samples).iterrows():\n",
        "    print(\"**\"*60,\n",
        "          \"RECOMMENDATION:\",\n",
        "          row['recommendation'],\n",
        "          \"--\"*60,\n",
        "          \"REVIEW:\",\n",
        "          row[column],\n",
        "          sep=\"\\n\")"
      ],
      "execution_count": 56,
      "outputs": [
        {
          "output_type": "display_data",
          "data": {
            "text/html": [
              "\n",
              "  <style>\n",
              "    pre {\n",
              "        white-space: pre-wrap;\n",
              "    }\n",
              "  </style>\n",
              "  "
            ],
            "text/plain": [
              "<IPython.core.display.HTML object>"
            ]
          },
          "metadata": {}
        }
      ]
    },
    {
      "cell_type": "code",
      "metadata": {
        "colab": {
          "base_uri": "https://localhost:8080/",
          "height": 567
        },
        "id": "e8WDFg4lTRkx",
        "outputId": "e2d301dd-04f3-49e0-81c7-64d0e123ac86"
      },
      "source": [
        "# Observe Random Samples\n",
        "random_sample(steam_train)"
      ],
      "execution_count": 183,
      "outputs": [
        {
          "output_type": "display_data",
          "data": {
            "text/html": [
              "\n",
              "  <style>\n",
              "    pre {\n",
              "        white-space: pre-wrap;\n",
              "    }\n",
              "  </style>\n",
              "  "
            ],
            "text/plain": [
              "<IPython.core.display.HTML object>"
            ]
          },
          "metadata": {}
        },
        {
          "output_type": "stream",
          "name": "stdout",
          "text": [
            "************************************************************************************************************************\n",
            "RECOMMENDATION:\n",
            "Recommended\n",
            "------------------------------------------------------------------------------------------------------------------------\n",
            "REVIEW:\n",
            "This game is pretty if you ask me the kids make the game so much worse to play I honestly want to die when I play this game 10/10 would play again\n",
            "************************************************************************************************************************\n",
            "RECOMMENDATION:\n",
            "Not Recommended\n",
            "------------------------------------------------------------------------------------------------------------------------\n",
            "REVIEW:\n",
            "THIS GAME BLOWS IN MANY WAYS )IF YOU GET MY DRIFT.\n",
            "************************************************************************************************************************\n",
            "RECOMMENDATION:\n",
            "Recommended\n",
            "------------------------------------------------------------------------------------------------------------------------\n",
            "REVIEW:\n",
            "TOO MUCH HACKERS THAT RUIN THIS GAME..BETTER SOLVE THIS PROBLEM BETTER EVERYONE QUIT THIS GAME\n",
            "************************************************************************************************************************\n",
            "RECOMMENDATION:\n",
            "Not Recommended\n",
            "------------------------------------------------------------------------------------------------------------------------\n",
            "REVIEW:\n",
            "terrible optimization laggy servers full of speedhacker and aimbotters ... and why the hell is there 2 hipfire modes even in first person gamemode ??? and there's no option to switch between toggle ads and hold ads . WTF are we playing CSGO ??????\n",
            "************************************************************************************************************************\n",
            "RECOMMENDATION:\n",
            "Recommended\n",
            "------------------------------------------------------------------------------------------------------------------------\n",
            "REVIEW:\n",
            "Some nice\n"
          ]
        }
      ]
    },
    {
      "cell_type": "markdown",
      "metadata": {
        "id": "J7c70pnTSQBh"
      },
      "source": [
        "## Text Data Pre-processing\n",
        "\n",
        "There are a couple of things we can notice from observing some of the samples in our reviews:\n",
        "1. There are a lot of misspelled words/errors in the punctuation\n",
        "2. There is a lot of videogame \"slang\". This is the nature of video game reviews from the steam store. How we deal with these is an important decision we will have to make.\n",
        "3. Some reviews have little to no content that is of little use to us (Ex: A review that only contains the text \"lol\")\n",
        "4. A lot of the reviews are not in english, because our final data will only be english, we will stick with only english reviews\n",
        "\n",
        "Ultimately, we will perform some text pre-processing before we carry on any further. We will perform the following:\n",
        "\n",
        "1. Remove non-english words\n",
        "2. Expand contracted words\n",
        "3. Make all text lowercase\n",
        "4. Remove punctuation\n",
        "5. Remove digits and words containing digits\n",
        "6. Remove stop words"
      ]
    },
    {
      "cell_type": "code",
      "metadata": {
        "colab": {
          "base_uri": "https://localhost:8080/",
          "height": 141
        },
        "id": "cp0avoS86Xw3",
        "outputId": "e4b8efbf-2eff-4c6c-dfe9-3ffc1f9fb8cc"
      },
      "source": [
        "import re\n",
        "import string\n",
        "import nltk\n",
        "from nltk.corpus import stopwords\n",
        "from nltk.corpus import wordnet\n",
        "nltk.download('punkt')\n",
        "nltk.download('stopwords')\n",
        "stopwords.words('english')\n",
        "nltk.download('wordnet')"
      ],
      "execution_count": 58,
      "outputs": [
        {
          "output_type": "display_data",
          "data": {
            "text/html": [
              "\n",
              "  <style>\n",
              "    pre {\n",
              "        white-space: pre-wrap;\n",
              "    }\n",
              "  </style>\n",
              "  "
            ],
            "text/plain": [
              "<IPython.core.display.HTML object>"
            ]
          },
          "metadata": {}
        },
        {
          "output_type": "stream",
          "name": "stdout",
          "text": [
            "[nltk_data] Downloading package punkt to /root/nltk_data...\n",
            "[nltk_data]   Package punkt is already up-to-date!\n",
            "[nltk_data] Downloading package stopwords to /root/nltk_data...\n",
            "[nltk_data]   Package stopwords is already up-to-date!\n",
            "[nltk_data] Downloading package wordnet to /root/nltk_data...\n",
            "[nltk_data]   Package wordnet is already up-to-date!\n"
          ]
        },
        {
          "output_type": "execute_result",
          "data": {
            "text/plain": [
              "True"
            ]
          },
          "metadata": {},
          "execution_count": 58
        }
      ]
    },
    {
      "cell_type": "code",
      "metadata": {
        "colab": {
          "base_uri": "https://localhost:8080/",
          "height": 16
        },
        "id": "zh_qZK2YtW2P",
        "outputId": "33e651cf-8ef2-4ba3-cb80-aea6c02f8e94"
      },
      "source": [
        "# Dictionary of English Contractions\n",
        "# This code block was taken directly from https://www.analyticsvidhya.com/blog/2020/04/beginners-guide-exploratory-data-analysis-text-data/\n",
        "contractions_dict = { \"ain't\": \"are not\",\"'s\":\" is\",\"aren't\": \"are not\",\n",
        "                     \"can't\": \"cannot\",\"can't've\": \"cannot have\",\n",
        "                     \"'cause\": \"because\",\"could've\": \"could have\",\"couldn't\": \"could not\",\n",
        "                     \"couldn't've\": \"could not have\", \"didn't\": \"did not\",\"doesn't\": \"does not\",\n",
        "                     \"don't\": \"do not\",\"hadn't\": \"had not\",\"hadn't've\": \"had not have\",\n",
        "                     \"hasn't\": \"has not\",\"haven't\": \"have not\",\"he'd\": \"he would\",\n",
        "                     \"he'd've\": \"he would have\",\"he'll\": \"he will\", \"he'll've\": \"he will have\",\n",
        "                     \"how'd\": \"how did\",\"how'd'y\": \"how do you\",\"how'll\": \"how will\",\n",
        "                     \"I'd\": \"I would\", \"I'd've\": \"I would have\",\"I'll\": \"I will\",\n",
        "                     \"I'll've\": \"I will have\",\"I'm\": \"I am\",\"I've\": \"I have\", \"isn't\": \"is not\",\n",
        "                     \"it'd\": \"it would\",\"it'd've\": \"it would have\",\"it'll\": \"it will\",\n",
        "                     \"it'll've\": \"it will have\", \"let's\": \"let us\",\"ma'am\": \"madam\",\n",
        "                     \"mayn't\": \"may not\",\"might've\": \"might have\",\"mightn't\": \"might not\", \n",
        "                     \"mightn't've\": \"might not have\",\"must've\": \"must have\",\"mustn't\": \"must not\",\n",
        "                     \"mustn't've\": \"must not have\", \"needn't\": \"need not\",\n",
        "                     \"needn't've\": \"need not have\",\"o'clock\": \"of the clock\",\"oughtn't\": \"ought not\",\n",
        "                     \"oughtn't've\": \"ought not have\",\"shan't\": \"shall not\",\"sha'n't\": \"shall not\",\n",
        "                     \"shan't've\": \"shall not have\",\"she'd\": \"she would\",\"she'd've\": \"she would have\",\n",
        "                     \"she'll\": \"she will\", \"she'll've\": \"she will have\",\"should've\": \"should have\",\n",
        "                     \"shouldn't\": \"should not\", \"shouldn't've\": \"should not have\",\"so've\": \"so have\",\n",
        "                     \"that'd\": \"that would\",\"that'd've\": \"that would have\", \"there'd\": \"there would\",\n",
        "                     \"there'd've\": \"there would have\", \"they'd\": \"they would\",\n",
        "                     \"they'd've\": \"they would have\",\"they'll\": \"they will\",\n",
        "                     \"they'll've\": \"they will have\", \"they're\": \"they are\",\"they've\": \"they have\",\n",
        "                     \"to've\": \"to have\",\"wasn't\": \"was not\",\"we'd\": \"we would\",\n",
        "                     \"we'd've\": \"we would have\",\"we'll\": \"we will\",\"we'll've\": \"we will have\",\n",
        "                     \"we're\": \"we are\",\"we've\": \"we have\", \"weren't\": \"were not\",\"what'll\": \"what will\",\n",
        "                     \"what'll've\": \"what will have\",\"what're\": \"what are\", \"what've\": \"what have\",\n",
        "                     \"when've\": \"when have\",\"where'd\": \"where did\", \"where've\": \"where have\",\n",
        "                     \"who'll\": \"who will\",\"who'll've\": \"who will have\",\"who've\": \"who have\",\n",
        "                     \"why've\": \"why have\",\"will've\": \"will have\",\"won't\": \"will not\",\n",
        "                     \"won't've\": \"will not have\", \"would've\": \"would have\",\"wouldn't\": \"would not\",\n",
        "                     \"wouldn't've\": \"would not have\",\"y'all\": \"you all\", \"y'all'd\": \"you all would\",\n",
        "                     \"y'all'd've\": \"you all would have\",\"y'all're\": \"you all are\",\n",
        "                     \"y'all've\": \"you all have\", \"you'd\": \"you would\",\"you'd've\": \"you would have\",\n",
        "                     \"you'll\": \"you will\",\"you'll've\": \"you will have\", \"you're\": \"you are\",\n",
        "                     \"you've\": \"you have\"}\n",
        "\n",
        "# Regular expression for finding contractions\n",
        "contractions_re=re.compile('(%s)' % '|'.join(contractions_dict.keys()))\n",
        "\n",
        "# Function for expanding contractions\n",
        "def expand_contractions(text,contractions_dict=contractions_dict):\n",
        "  def replace(match):\n",
        "    return contractions_dict[match.group(0)]\n",
        "  return contractions_re.sub(replace, text)\n"
      ],
      "execution_count": 59,
      "outputs": [
        {
          "output_type": "display_data",
          "data": {
            "text/html": [
              "\n",
              "  <style>\n",
              "    pre {\n",
              "        white-space: pre-wrap;\n",
              "    }\n",
              "  </style>\n",
              "  "
            ],
            "text/plain": [
              "<IPython.core.display.HTML object>"
            ]
          },
          "metadata": {}
        }
      ]
    },
    {
      "cell_type": "code",
      "metadata": {
        "colab": {
          "base_uri": "https://localhost:8080/",
          "height": 16
        },
        "id": "VFcyCCYq8eXZ",
        "outputId": "0e705701-2b67-45d4-dc7b-a46545105b81"
      },
      "source": [
        "import re\n",
        "\n",
        "# Setup videogame slang replacement\n",
        "vg_slang = {\"gg\": \"good game\",\n",
        "            \"poggers\": \"awesome\",\n",
        "            \"afk\": \"away from keyboard\",\n",
        "            \"noob\": \"rookie\",\n",
        "            \"aoe\": \"area of affect\",\n",
        "            \"g2g\": \"got to go\",\n",
        "            \"lvl\": \"level\",\n",
        "            \"mmorpg\": \"massively multiplayer online role-playing game\",\n",
        "            \"dl\":\"download\",\n",
        "            \"rng\": \"random number generator\",\n",
        "            \"dc\": \"disconnect\",\n",
        "            \"ik\": \"i know\",\n",
        "            \"wut\": \"what\",\n",
        "            \"oom\": \"out of mana\",\n",
        "            \"mlg\": \"major league gaming\",\n",
        "            \"pwned\": \"owned\",\n",
        "            \"dnd\": \"dungeons and dragons\",\n",
        "            \"dmg\": \"damage\",\n",
        "            \"tldr\": \"too long, didn't read\",\n",
        "            \"triggered\": \"angry\",\n",
        "            \"sec\": \"second\",\n",
        "            \"ezpz\": \"easy peasy\",\n",
        "            \"grats\": \"congratualations\",\n",
        "            \"ragequit\": \"angrily quit the game\",\n",
        "            \"ditto\": \"same\",\n",
        "            \"rl\": \"real life\",\n",
        "            \"irl\": \"in real life\",\n",
        "            \"sfx\": \"special effects\",\n",
        "            \"pwn3d\": \"owned\",\n",
        "            \"ult\": \"ultimate ability\",\n",
        "            \"FUBAR\": \"folued up beyond all recognition\",\n",
        "            \"ost\": \"original soundtrack\",\n",
        "            \"pog\": \"play of the game\",\n",
        "            \"dog water\": \"worthless\",\n",
        "            \"aggro\": \"aggression\",\n",
        "            \"ftw\": \"for the win\",\n",
        "            \"f2p\": \"free to play\",\n",
        "            \"rdy\": \"ready\",\n",
        "            \"gtfo\": \"get the fuck out\",\n",
        "            \"wtt\": \"want to trade\",\n",
        "            \"wtf\": \"what the fuck\",\n",
        "            \"gosu\": \"highly skilled\",\n",
        "            \"pwn\": \"own\",\n",
        "            \"los\": \"line of sight\",\n",
        "            \"hf\": \"have fun\",\n",
        "            \"tp\": \"teleport\",\n",
        "            \"op\": \"overpowered\",\n",
        "            \"tdm\": \"team death match\",\n",
        "            \"gud\": \"good\"\n",
        "            }\n",
        "\n",
        "def translate(review, slang=vg_slang):\n",
        "  \"\"\" Replaces video game slang in a given review\"\"\"\n",
        "  if not review:\n",
        "    return review\n",
        "\n",
        "  for k, v in slang.items():\n",
        "    review  = re.sub(r'\\b' + k + r'\\b', v, review)\n",
        "\n",
        "  return review\n",
        "\n",
        "def remove_stop_words(tokens):\n",
        "  \"\"\"Removes stop words in review\"\"\"\n",
        "  _ = [tokens.remove(t) for t in tokens if t in stopwords.words('english')] # List comprehension to speed up computation\n",
        "  return tokens\n",
        "\n",
        "\n"
      ],
      "execution_count": 60,
      "outputs": [
        {
          "output_type": "display_data",
          "data": {
            "text/html": [
              "\n",
              "  <style>\n",
              "    pre {\n",
              "        white-space: pre-wrap;\n",
              "    }\n",
              "  </style>\n",
              "  "
            ],
            "text/plain": [
              "<IPython.core.display.HTML object>"
            ]
          },
          "metadata": {}
        }
      ]
    },
    {
      "cell_type": "code",
      "metadata": {
        "colab": {
          "base_uri": "https://localhost:8080/",
          "height": 16
        },
        "id": "SuWk1ei_IglM",
        "outputId": "1f36c394-b640-4223-c103-acb343d53aae"
      },
      "source": [
        "def clean_text(review):\n",
        "  \"\"\"This function combines all text processing functions and cleans our text\n",
        "  per review.\"\"\"\n",
        "\n",
        "  # Make lowercase and expand contractions\n",
        "  review = expand_contractions(review.lower())\n",
        "\n",
        "  # Replace videogame slang\n",
        "  review = translate(review)\n",
        "\n",
        "  # Remove any left over punctuation and digits\n",
        "  review = \"\".join([c for c in review if\n",
        "                                  c not in string.punctuation and not c.isdigit()])\n",
        "  \n",
        "  # Tokenize review\n",
        "  review = nltk.word_tokenize(review)\n",
        "\n",
        "  # Remove non-english words\n",
        "  review = [t for t in review if wordnet.synsets(t)]\n",
        "\n",
        "  # Remove stop words\n",
        "  review = remove_stop_words(review)  \n",
        "\n",
        "  return review"
      ],
      "execution_count": 61,
      "outputs": [
        {
          "output_type": "display_data",
          "data": {
            "text/html": [
              "\n",
              "  <style>\n",
              "    pre {\n",
              "        white-space: pre-wrap;\n",
              "    }\n",
              "  </style>\n",
              "  "
            ],
            "text/plain": [
              "<IPython.core.display.HTML object>"
            ]
          },
          "metadata": {}
        }
      ]
    },
    {
      "cell_type": "code",
      "metadata": {
        "colab": {
          "base_uri": "https://localhost:8080/",
          "height": 16
        },
        "id": "6O-unalmtl3h",
        "outputId": "72c9c87d-3e4c-45e0-a293-a7495385794a"
      },
      "source": [
        "# Work with smaller dataset to speed up work flow\n",
        "steam_train = steam_train.sample(10000)\n",
        "steam_train[\"rec_labels\"] = steam_train[\"recommendation\"].astype('category').cat.codes"
      ],
      "execution_count": 178,
      "outputs": [
        {
          "output_type": "display_data",
          "data": {
            "text/html": [
              "\n",
              "  <style>\n",
              "    pre {\n",
              "        white-space: pre-wrap;\n",
              "    }\n",
              "  </style>\n",
              "  "
            ],
            "text/plain": [
              "<IPython.core.display.HTML object>"
            ]
          },
          "metadata": {}
        }
      ]
    },
    {
      "cell_type": "code",
      "metadata": {
        "colab": {
          "base_uri": "https://localhost:8080/",
          "height": 16
        },
        "id": "GczGxQ3Rtjr6",
        "outputId": "55d53e22-6ec9-444e-e95c-260ebb6cce8a"
      },
      "source": [
        "# Clean text data\n",
        "steam_train['clean_text'] = steam_train['review'].apply(lambda row: clean_text(row))"
      ],
      "execution_count": 179,
      "outputs": [
        {
          "output_type": "display_data",
          "data": {
            "text/html": [
              "\n",
              "  <style>\n",
              "    pre {\n",
              "        white-space: pre-wrap;\n",
              "    }\n",
              "  </style>\n",
              "  "
            ],
            "text/plain": [
              "<IPython.core.display.HTML object>"
            ]
          },
          "metadata": {}
        }
      ]
    },
    {
      "cell_type": "code",
      "metadata": {
        "colab": {
          "base_uri": "https://localhost:8080/",
          "height": 567
        },
        "id": "Kap3azGl7ZeD",
        "outputId": "d43485bf-d26e-43bb-f267-3aa87026823e"
      },
      "source": [
        "# Observe Random Samples\n",
        "random_sample(steam_train, column='clean_text')"
      ],
      "execution_count": 187,
      "outputs": [
        {
          "output_type": "display_data",
          "data": {
            "text/html": [
              "\n",
              "  <style>\n",
              "    pre {\n",
              "        white-space: pre-wrap;\n",
              "    }\n",
              "  </style>\n",
              "  "
            ],
            "text/plain": [
              "<IPython.core.display.HTML object>"
            ]
          },
          "metadata": {}
        },
        {
          "output_type": "stream",
          "name": "stdout",
          "text": [
            "************************************************************************************************************************\n",
            "RECOMMENDATION:\n",
            "Recommended\n",
            "------------------------------------------------------------------------------------------------------------------------\n",
            "REVIEW:\n",
            "['best', 'around']\n",
            "************************************************************************************************************************\n",
            "RECOMMENDATION:\n",
            "Recommended\n",
            "------------------------------------------------------------------------------------------------------------------------\n",
            "REVIEW:\n",
            "['game', 'brings', 'in', 'people', 'its', 'love', 'customizing', 'car', 'challenge', 'over']\n",
            "************************************************************************************************************************\n",
            "RECOMMENDATION:\n",
            "Recommended\n",
            "------------------------------------------------------------------------------------------------------------------------\n",
            "REVIEW:\n",
            "['classic', 'game', 'first', 'past', 'gang', 'banging', 'gun', 'play', 'hookers', 'cars', 'unfair', 'single', 'player', 'truly', 'stood', 'me', 'beautifully', 'crafted', 'story', 'amazing', 'graphics', 'makes', 'top', 'five', 'video', 'games', 'time', 'sure']\n",
            "************************************************************************************************************************\n",
            "RECOMMENDATION:\n",
            "Recommended\n",
            "------------------------------------------------------------------------------------------------------------------------\n",
            "REVIEW:\n",
            "['endless', 'fun']\n",
            "************************************************************************************************************************\n",
            "RECOMMENDATION:\n",
            "Recommended\n",
            "------------------------------------------------------------------------------------------------------------------------\n",
            "REVIEW:\n",
            "['love', 'game', 'much', 'fun']\n"
          ]
        }
      ]
    },
    {
      "cell_type": "markdown",
      "metadata": {
        "id": "cX_sBQ0D8tbg"
      },
      "source": [
        "## Exploratory Data Analysis\n",
        "\n",
        "Now that we have cleaned our data, let's go ahead and performing EDA. Here are a couple things we will look at:\n",
        "\n",
        "1. Distribution of recommended/not recommended instances\n",
        "2. Min/Max words per review per label\n",
        "3. Average words per review per label\n",
        "4. Most common words per label"
      ]
    },
    {
      "cell_type": "code",
      "metadata": {
        "colab": {
          "base_uri": "https://localhost:8080/",
          "height": 332
        },
        "id": "FwHvpIZv-1qK",
        "outputId": "5ace3cd8-2fa1-420e-8c4f-c79a60f5392b"
      },
      "source": [
        "import numpy as np\n",
        "import seaborn as sns\n",
        "\n",
        "# Plot distribution of recommended and not recommended labels\n",
        "print(steam_train['recommendation'].value_counts())\n",
        "sns.histplot(steam_train, x='recommendation');"
      ],
      "execution_count": 65,
      "outputs": [
        {
          "output_type": "display_data",
          "data": {
            "text/html": [
              "\n",
              "  <style>\n",
              "    pre {\n",
              "        white-space: pre-wrap;\n",
              "    }\n",
              "  </style>\n",
              "  "
            ],
            "text/plain": [
              "<IPython.core.display.HTML object>"
            ]
          },
          "metadata": {}
        },
        {
          "output_type": "stream",
          "name": "stdout",
          "text": [
            "Recommended        6958\n",
            "Not Recommended    3042\n",
            "Name: recommendation, dtype: int64\n"
          ]
        },
        {
          "output_type": "display_data",
          "data": {
            "image/png": "[encoded data removed]",
            "text/plain": [
              "<Figure size 432x288 with 1 Axes>"
            ]
          },
          "metadata": {
            "needs_background": "light"
          }
        }
      ]
    },
    {
      "cell_type": "code",
      "metadata": {
        "colab": {
          "base_uri": "https://localhost:8080/",
          "height": 16
        },
        "id": "ihBIdtq6_OA6",
        "outputId": "66041314-d8ee-415a-8846-f258a7d90a64"
      },
      "source": [
        "# Observe min and max words per review in each label\n",
        "# Create num of words per review column\n",
        "steam_train['n_words'] = steam_train['clean_text'].apply(lambda row: len(row))\n",
        "\n",
        "def display_max_min_mean(df):\n",
        "  max = df.groupby(by='recommendation')['n_words'].max()\n",
        "  min = df.groupby(by='recommendation')['n_words'].min()\n",
        "  mean = df.groupby(by='recommendation')['n_words'].mean()\n",
        "\n",
        "  # Display Not Recommended stats\n",
        "  print(f\"Max number of words per review in \\\"Not Recommended\\\": {max[0]}\",\n",
        "        f\"Min number of words per review in \\\"Not Recommended\\\": {min[0]}\",\n",
        "        f\"Mean number of words per review in \\\"Not Recommended\\\": {round(mean[0])}\",\n",
        "        sep='\\n')\n",
        "  print('--'*80)\n",
        "\n",
        "  # Display Recommended stats\n",
        "  print(f\"Max number of words per review in \\\"Recommended\\\": {max[1]}\",\n",
        "        f\"Max number of words per review in \\\"Recommended\\\": {min[1]}\",\n",
        "        f\"Mean number of words per review in \\\"Recommended\\\": {round(mean[1])}\",\n",
        "        sep='\\n')"
      ],
      "execution_count": 188,
      "outputs": [
        {
          "output_type": "display_data",
          "data": {
            "text/html": [
              "\n",
              "  <style>\n",
              "    pre {\n",
              "        white-space: pre-wrap;\n",
              "    }\n",
              "  </style>\n",
              "  "
            ],
            "text/plain": [
              "<IPython.core.display.HTML object>"
            ]
          },
          "metadata": {}
        }
      ]
    },
    {
      "cell_type": "code",
      "metadata": {
        "colab": {
          "base_uri": "https://localhost:8080/",
          "height": 141
        },
        "id": "G7zvHn8auxQg",
        "outputId": "8c0246cb-3b1c-427d-8180-55464ea6d511"
      },
      "source": [
        "display_max_min_mean(steam_train)"
      ],
      "execution_count": 189,
      "outputs": [
        {
          "output_type": "display_data",
          "data": {
            "text/html": [
              "\n",
              "  <style>\n",
              "    pre {\n",
              "        white-space: pre-wrap;\n",
              "    }\n",
              "  </style>\n",
              "  "
            ],
            "text/plain": [
              "<IPython.core.display.HTML object>"
            ]
          },
          "metadata": {}
        },
        {
          "output_type": "stream",
          "name": "stdout",
          "text": [
            "Max number of words per review in \"Not Recommended\": 695\n",
            "Min number of words per review in \"Not Recommended\": 0\n",
            "Mean number of words per review in \"Not Recommended\": 27\n",
            "----------------------------------------------------------------------------------------------------------------------------------------------------------------\n",
            "Max number of words per review in \"Recommended\": 768\n",
            "Max number of words per review in \"Recommended\": 0\n",
            "Mean number of words per review in \"Recommended\": 19\n"
          ]
        }
      ]
    },
    {
      "cell_type": "markdown",
      "metadata": {
        "id": "aJ9p0VtWytvH"
      },
      "source": [
        "At this point, it looks like some of our reviews have actually been cleaned to the point where there is 0 words in them. Let's take a closer look at these instances."
      ]
    },
    {
      "cell_type": "code",
      "metadata": {
        "colab": {
          "base_uri": "https://localhost:8080/",
          "height": 272
        },
        "id": "0LSaN_6uJyQX",
        "outputId": "adf9872f-55d1-47c6-88eb-9e003e34b844"
      },
      "source": [
        "steam_train[steam_train['n_words'] == 0].sample(5)"
      ],
      "execution_count": 190,
      "outputs": [
        {
          "output_type": "display_data",
          "data": {
            "text/html": [
              "\n",
              "  <style>\n",
              "    pre {\n",
              "        white-space: pre-wrap;\n",
              "    }\n",
              "  </style>\n",
              "  "
            ],
            "text/plain": [
              "<IPython.core.display.HTML object>"
            ]
          },
          "metadata": {}
        },
        {
          "output_type": "execute_result",
          "data": {
            "text/html": [
              "<div>\n",
              "<style scoped>\n",
              "    .dataframe tbody tr th:only-of-type {\n",
              "        vertical-align: middle;\n",
              "    }\n",
              "\n",
              "    .dataframe tbody tr th {\n",
              "        vertical-align: top;\n",
              "    }\n",
              "\n",
              "    .dataframe thead th {\n",
              "        text-align: right;\n",
              "    }\n",
              "</style>\n",
              "<table border=\"1\" class=\"dataframe\">\n",
              "  <thead>\n",
              "    <tr style=\"text-align: right;\">\n",
              "      <th></th>\n",
              "      <th>date_posted</th>\n",
              "      <th>funny</th>\n",
              "      <th>helpful</th>\n",
              "      <th>hour_played</th>\n",
              "      <th>is_early_access_review</th>\n",
              "      <th>recommendation</th>\n",
              "      <th>review</th>\n",
              "      <th>title</th>\n",
              "      <th>rec_labels</th>\n",
              "      <th>clean_text</th>\n",
              "      <th>n_words</th>\n",
              "    </tr>\n",
              "  </thead>\n",
              "  <tbody>\n",
              "    <tr>\n",
              "      <th>336346</th>\n",
              "      <td>2018-09-24</td>\n",
              "      <td>0</td>\n",
              "      <td>0</td>\n",
              "      <td>251</td>\n",
              "      <td>False</td>\n",
              "      <td>Recommended</td>\n",
              "      <td>bestie 10/10</td>\n",
              "      <td>PLAYERUNKNOWN'S BATTLEGROUNDS</td>\n",
              "      <td>1</td>\n",
              "      <td>[]</td>\n",
              "      <td>0</td>\n",
              "    </tr>\n",
              "    <tr>\n",
              "      <th>246630</th>\n",
              "      <td>2017-09-27</td>\n",
              "      <td>0</td>\n",
              "      <td>0</td>\n",
              "      <td>65</td>\n",
              "      <td>True</td>\n",
              "      <td>Recommended</td>\n",
              "      <td>8.9/10.</td>\n",
              "      <td>PLAYERUNKNOWN'S BATTLEGROUNDS</td>\n",
              "      <td>1</td>\n",
              "      <td>[]</td>\n",
              "      <td>0</td>\n",
              "    </tr>\n",
              "    <tr>\n",
              "      <th>407276</th>\n",
              "      <td>2015-12-26</td>\n",
              "      <td>0</td>\n",
              "      <td>0</td>\n",
              "      <td>0</td>\n",
              "      <td>True</td>\n",
              "      <td>Recommended</td>\n",
              "      <td>gjhikolkjhikghikhojghohk</td>\n",
              "      <td>Rust</td>\n",
              "      <td>1</td>\n",
              "      <td>[]</td>\n",
              "      <td>0</td>\n",
              "    </tr>\n",
              "    <tr>\n",
              "      <th>342079</th>\n",
              "      <td>2018-03-03</td>\n",
              "      <td>0</td>\n",
              "      <td>0</td>\n",
              "      <td>113</td>\n",
              "      <td>False</td>\n",
              "      <td>Recommended</td>\n",
              "      <td>REEEEEEEEEEEEEEEEEEEEEEEEEEE</td>\n",
              "      <td>PLAYERUNKNOWN'S BATTLEGROUNDS</td>\n",
              "      <td>1</td>\n",
              "      <td>[]</td>\n",
              "      <td>0</td>\n",
              "    </tr>\n",
              "    <tr>\n",
              "      <th>173989</th>\n",
              "      <td>2017-06-23</td>\n",
              "      <td>0</td>\n",
              "      <td>0</td>\n",
              "      <td>100</td>\n",
              "      <td>False</td>\n",
              "      <td>Recommended</td>\n",
              "      <td>.</td>\n",
              "      <td>Grand Theft Auto V</td>\n",
              "      <td>1</td>\n",
              "      <td>[]</td>\n",
              "      <td>0</td>\n",
              "    </tr>\n",
              "  </tbody>\n",
              "</table>\n",
              "</div>"
            ],
            "text/plain": [
              "       date_posted  funny  helpful  ...  rec_labels  clean_text n_words\n",
              "336346  2018-09-24      0        0  ...           1          []       0\n",
              "246630  2017-09-27      0        0  ...           1          []       0\n",
              "407276  2015-12-26      0        0  ...           1          []       0\n",
              "342079  2018-03-03      0        0  ...           1          []       0\n",
              "173989  2017-06-23      0        0  ...           1          []       0\n",
              "\n",
              "[5 rows x 11 columns]"
            ]
          },
          "metadata": {},
          "execution_count": 190
        }
      ]
    },
    {
      "cell_type": "markdown",
      "metadata": {
        "id": "grlAtudgKCaw"
      },
      "source": [
        "The rows with a value of 0 in `n_words` appear to represent reviews that we wanted mostly filtered out (non-english, digits, etc.), which is what we wanted. Let's go ahead and removed these rows with 0 words in `clean_text`."
      ]
    },
    {
      "cell_type": "code",
      "metadata": {
        "colab": {
          "base_uri": "https://localhost:8080/",
          "height": 141
        },
        "id": "A5xKOY1l6EkM",
        "outputId": "a196830f-1db7-4f23-921a-779e9894c1e1"
      },
      "source": [
        "steam_train = steam_train[steam_train['n_words'] != 0 ]\n",
        "display_max_min_mean(steam_train)"
      ],
      "execution_count": 191,
      "outputs": [
        {
          "output_type": "display_data",
          "data": {
            "text/html": [
              "\n",
              "  <style>\n",
              "    pre {\n",
              "        white-space: pre-wrap;\n",
              "    }\n",
              "  </style>\n",
              "  "
            ],
            "text/plain": [
              "<IPython.core.display.HTML object>"
            ]
          },
          "metadata": {}
        },
        {
          "output_type": "stream",
          "name": "stdout",
          "text": [
            "Max number of words per review in \"Not Recommended\": 695\n",
            "Min number of words per review in \"Not Recommended\": 1\n",
            "Mean number of words per review in \"Not Recommended\": 28\n",
            "----------------------------------------------------------------------------------------------------------------------------------------------------------------\n",
            "Max number of words per review in \"Recommended\": 768\n",
            "Max number of words per review in \"Recommended\": 1\n",
            "Mean number of words per review in \"Recommended\": 20\n"
          ]
        }
      ]
    },
    {
      "cell_type": "markdown",
      "metadata": {
        "id": "Ej1qFeDHKpt4"
      },
      "source": [
        "Based on the Max and Mean number of words in each class, we can see that our data appears to be skewed and we could have \"outliers\" - that is, reviews with an unusually large number of words. These reviews are typically long because they go in depth with the specific game they are describing. This can become unnecessary information as describing what actually happens in the game does not necessarily dictate whether the reviewer actually enjoyed the game or not. Let's take a look at what our `n_words` columns looks like on a box and whisker plot. From there, we will take a closer look at these video game reviews."
      ]
    },
    {
      "cell_type": "code",
      "metadata": {
        "colab": {
          "base_uri": "https://localhost:8080/",
          "height": 623
        },
        "id": "4O3_YPuXSMne",
        "outputId": "ad2dc2f8-4192-41e4-8618-53fc9bc8168b"
      },
      "source": [
        "import matplotlib.pyplot as plt\n",
        "plt.figure(figsize=(20, 10))\n",
        "sns.boxplot(x=steam_train['n_words'], y=steam_train['recommendation'])"
      ],
      "execution_count": 192,
      "outputs": [
        {
          "output_type": "display_data",
          "data": {
            "text/html": [
              "\n",
              "  <style>\n",
              "    pre {\n",
              "        white-space: pre-wrap;\n",
              "    }\n",
              "  </style>\n",
              "  "
            ],
            "text/plain": [
              "<IPython.core.display.HTML object>"
            ]
          },
          "metadata": {}
        },
        {
          "output_type": "execute_result",
          "data": {
            "text/plain": [
              "<matplotlib.axes._subplots.AxesSubplot at 0x7fd1ce68ea90>"
            ]
          },
          "metadata": {},
          "execution_count": 192
        },
        {
          "output_type": "display_data",
          "data": {
            "image/png": "[encoded data removed]",
            "text/plain": [
              "<Figure size 1440x720 with 1 Axes>"
            ]
          },
          "metadata": {
            "needs_background": "light"
          }
        }
      ]
    },
    {
      "cell_type": "code",
      "metadata": {
        "colab": {
          "base_uri": "https://localhost:8080/",
          "height": 1000
        },
        "id": "D8T6nFcFYdmA",
        "outputId": "e482e383-7bad-4202-f281-68c9bc0fc53a"
      },
      "source": [
        "# Take a closer look at our outliers using our random sample function\n",
        "random_sample(steam_train[steam_train['n_words'] > 200])"
      ],
      "execution_count": 194,
      "outputs": [
        {
          "output_type": "display_data",
          "data": {
            "text/html": [
              "\n",
              "  <style>\n",
              "    pre {\n",
              "        white-space: pre-wrap;\n",
              "    }\n",
              "  </style>\n",
              "  "
            ],
            "text/plain": [
              "<IPython.core.display.HTML object>"
            ]
          },
          "metadata": {}
        },
        {
          "output_type": "stream",
          "name": "stdout",
          "text": [
            "************************************************************************************************************************\n",
            "RECOMMENDATION:\n",
            "Not Recommended\n",
            "------------------------------------------------------------------------------------------------------------------------\n",
            "REVIEW:\n",
            "I love PUBG it is by far the most fun and realistic battle royal I have ever played. That being said the DEVs lack any care for fixing this game. To list a few very simple fixes Parachuting is still broken I have landed thousands of times and I cannot begin to the frustration of still being kicked off the roof of a building and taking fall damage because it is STILL BROKEN. The same can be said about hitting trees or power lines still drops you every time at a decent height that does (while minor) damage. DESYNC holy cow is this atrocious now. Whatever you did DEVs to \"fix\" the game you've broken it more. I have been behind many many many buildings walls trees rocks anything and everything and still been shot. When watching my death cam not only was it from someplace that was impossible it was THROUGH the wall. Being killed when it is physically impossible is not fun. I truly think that while there are complaints about other things in the game on this review my biggest issue is desync. The DEVs have to have to have to fix the net code for this game without this being fixed the player base will continue to be angry. The gun loot on the bigger maps is still minimal. It is frustrating at best to enter multiple houses upon dropping to find nothing not just \"nothing\" but literally nothing at all. No meds no gun and no ammo. The blue zone is frustration waiting to happen as well. You can see into the zone but not out the zone. This needs to be fixed. Either you see in or you don t being shot from outside the zone as you can t see out makes fighting very difficult. Also whatever anti cheat they are using isn t very effective. I run into many an instance where there is obviously someone cheating in game. I am never happy to die to someone who snaps their gun on me and misses no shots. Another while minor fixes that could be implemented is the vehicles could handle way better. The UAZ now feels like a piece of paper when driving. The UMP does far too much damage now I understand that they are trying to equalize the guns but it is now WAY too powerful. Not only is the UMP too strong the beryl has now been stripped of recoil where the recoil previously was far too great. While I may have only 151 hours in this game compared to people who have many more I still think this game needs so much more fixing.\n",
            "************************************************************************************************************************\n",
            "RECOMMENDATION:\n",
            "Recommended\n",
            "------------------------------------------------------------------------------------------------------------------------\n",
            "REVIEW:\n",
            "SummaryOverall this IS a good game. The devs are constantly working on the title. Controls Sound Visuals are all good. It is a world I want to be in. Love the building hunting side of the game. The procedural maps are now a nice touch too so can visit a server with a unique map to explore. It s a game that s best played with friends. Having said that there is always aspects that could be improved upon to address a few key complaints from people. Which would also add a new dimension to the game. I really want to see this game reach its full potential. Suggested ImprovementsAI FactionThe game itself is 90% PvP. There are a few animals to kill etc and some exploring to do but there is little PvE content such as an AI faction to fight against. This is something I feel would be a big plus for those players that prefer the PvE side of games and want to co op to beat an \"Island Boss\" in his gang s fortress. This would probably be the greatest programmatical challenge but would be a big plus for PvE ers.Gangs/ClansNow of course some people have pure PvE servers where PvP has been disabled. Which is good for some that ONLY want the PvE side of things. What's needed is a game mechanic such as \"Gangs\" (Guilds Clans Corps whatever you wish to call it) So people in the same gang can't hurt each other. That would build in some safety into the game for those that enjoy working in part of a team to achieve goals in construction farming mining etc. This could be a server option. This would help address some of the \"toxic\" community issues and bring some PvPvE feel a bit more. Spawn protectionThis could be another server option. Make a new spawning player invulnerability for say x number of seconds after every spawn. At least giving them time to NOT be spawn murdered. There would be mechanics that would stop this being abused so for example while spawn invulnerable you cannot go near non gang buildings.PvE player modeThis again can be a server setting. If enabled a player can choose to be in \"PvE Mode\" only. Meaning they cannot be harmed by other players or indeed harm others. Of course this must also come with mechanisms that stop this being abused. Such as again these players cannot damage or go anywhere near other player s structures. This would suit people that just want to be part of a local community doing things such as hunting mining construction etc. for their gang but get no enjoyment from the PvP side of things.These players would have a marker above their heads to show this status so other PvPers dont waste time trying to kill them. This setting would need a protection timer so you can t just switch it on and of every 5 seconds. And perhaps only apply the setting at login.\n",
            "************************************************************************************************************************\n",
            "RECOMMENDATION:\n",
            "Recommended\n",
            "------------------------------------------------------------------------------------------------------------------------\n",
            "REVIEW:\n",
            "Ladys and Gentlemen I welcome you to the saltiest game the world has ever seen. https //youtu.be/3KquFZYi6L0 This is a short description of how the game community functions /url I'm happy to announce the most toxic community since League of Legends. Here you are morally somewhat below a pedophile terrorist who sells drugs to kittens if you play killer. Threats to have your family yourself and your pets killed sexually violated or tortured is something you should get used to.The game is an asymetrical horror competitive coop game. Where one side plays the killer as a single person and has to kill four survivors. The survivors need to repair 5 generators on a randomly generated map of which each has a specific theme but the maps are always very slightly different.For the horror aspekt of the game is to say that it is not exactly clear who scares who more. If the killer is more scared of the survivors or the other way around. For the survivors to win they have to repair the generators which enables them to unlock the two exit gates and leave through said gate the last remaining survivor can also leave through the exit hatch which opens even if not five generators are yet done.For the killer to win he has obviously to kill the survivors. To kill a survivor the killer has to hit him twice where the first hit damages said survivor and the second hit puts the survivor down. After the survivor is downed he needs to be put onto a hook. Hooks can be everywhere on the map.The survivor is then for a specific time on said hook until finally dying. The other ways to kill a survivor is by hooking them once and if they were rescued and you used a so called Mori offerring before the start of the game you can kill the survivor https //www.youtube.com/watch?v Rw7gTUzPDbc which looks ultra cool btw /url directly after downing him.The survivor can be hooked for up to 3 times before dying completly but he can also die in a single hook as long as noone comes or manages to rescue said survivor.The sides have completly different playstyles. A survivor can shift between crouching walking and sprinting. He can also jump through windows and above dropped pallets as well as he is able to drop pallets. The survivor plays from a third person perspective.The Killer plays from a first person perspective walks generally faster than the survivor can sprint but has a set speed. He can be stunned by pallets can't drop them but can destroy dropped pallets and walk slowly through windows. Each killer also has a special ability like setting traps for the trapper a chainsaw sprint for hillibilly a blink for the nurse etc.The killer also gets indicators about noise that the survivors do. When they for example jump through a window or finish a generator. The killer also sees every unfinished generator with a red indicator which enables him to go directly to them without searching for it. And the killer can see the tracks of injured or running survivors to enable him to chase said survivors better.Each side can unlock various perks tools and addons they can equip before each round.Lets talk about the specific jobs of each side. Your main job as a survivor is to make the killer angry. Teabag him have him follow you through a bunch of pallets and loops and basically just him up. https //www.youtube.com/watch?v tahJmMkEEXA basically like that /url The killer runs around and tries to down a survivor. He then proceeds to place him on a hook and then has the big moral questions. Because the general psychology of the survivors there is always someone near to save him. Thus he has the decision between three things.1. Leave the hook and search for survivors2. Softcamp3. HardcampThe first decision is the one survivors try to force at the killer this is also the decision that appoints you with the lowest killrate and lowest amount of Blood Points. This decision normally leads to survivors calling you a noob and laughting at you because of your low killrate in the endgame chat.The second decision grants you the highest Blood Point and a normally you have about as many kills as when you'd hardcamp. Sometimes more sometimes less. This decision also grants you a decent amount of salt.The last decision would grant you an o.k. amount of blood points a decently high killrate and an insane amount of salt. Don't forget if you play killer your main goal should be the salt. The more death threats reports insults and flame in general you get the better you were in reaching your goal.In turn as a survivor it is your task to flame the killer in the endgame chat. Don't worry in this game the only bannable offense is to cheat nothing else ever got banned.I don't know if the game is something for you. But if you want to get the salt. Live for it. Breath it and strife in it. And all the insults you fired in League of Legends and that were fired at you throughout all your time playing is not enough for you. Here you can get the same amount in a week. (Only if you played League of Legends for at least 3 years and played ranked in low elo).This was my review. Have fun. And remember No Salt no Life.\n",
            "************************************************************************************************************************\n",
            "RECOMMENDATION:\n",
            "Not Recommended\n",
            "------------------------------------------------------------------------------------------------------------------------\n",
            "REVIEW:\n",
            "I can sum up what's wrong with this game in one sentence so bear with me as I explain that sentence. \"There is no native Linux client\" A significant number of developers publishers and gamers read a sentence like that and simply dismiss it out of hand for a variety of reasons with none of those reasons being valid. The point of developing a Linux client for any game or any software package is not for fiscal return in sales nor just for community goodwill. It isn't to showcase technical prowess or to grow a new market. Not is it just to hush up a very vocal stastical minority of players.The point of developing for Linux is that it enforces Good Coding Practices. Applications that are cross developed for Linux and Windows sets a number of high barriers a developer must address. One of those barriers is code documetation. With multiple operating systems in play code must be well documented so that anybody else reading the code later will know what the original developer intended.Developing with cross platform targets in mind from the start also forces the developer to avoid Operating System specific functions. Developers also have an incentive to avoid Operating System specific API's. Native cross platform development also makes it more likely that the developer will leverage more robust development tools check more of the code for errors before compiling get more detailed reports afterwards on what broke during compiling and ultimately produce cleaner code as a result. Native cross platform development forces developers especially game developers to actually test their shader code on a variety of different hardware types. Supporting AMD alone for example could mean making sure OpenGL and Vulkan shader code runs under as many as 4 different drivers. The more physical graphics cards a developer tests against in house and the more drivers against which those graphics cards are tested make it far more likely that bad or error'd code will be noticed and can be corrected. The sheer scale scope and ambition that Bethesda puts into their games is only matched by what appears to be the sheer scale and scope of Bethesda's apathic coding practices. Bethesda games are legendary for massive bugs glitches and any number of wide ranging issues that would normally spell death for any other developer. From what I've experienced players love Bethesda games because there's something to those games that is more compelling than the broken clients used to play those games.For years players have begged Bethesda to open up their game clients under Open Source licenses. For years players have begged Bethesda to let the players fix those game clients at the code level not at some downloadable mod level. For years Bethesda has responded with a flat \"No\" I harbor no doubt that if Bethesda had released the Fallout 4 engine under an Open Source license and let the player base bring Skyrim into that engine then there would have been something special. There wouldn't have been sound files that were compressed using some well let's just leave it at noting that the sound is not compressed using a format from Xiph. There wouldn't have been texture packs that were left untouched. There wouldn't have been broken shader codes. If anything it's likely that the extremely talented player base would have ported the graphics code into Vulkan.When I saw Skyrim Special Edition land with no native Linux client as a Zero Day Launch I knew without even checking anything else or even loading the game up that Bethesda hadn't followed coding practices. I knew just from the lack of a product that the code probably had not been tested on a wide range of hardware or driver sets. I knew that Bethesda probably hadn't used platform agnostic development tools and likely had a wide range of Operating System workarounds black boxes and kludges in the ported game. Other developers might want to take notes. Supporting Linux platforms during the product development process as a cross compile with Windows isn't just to make the fan base feel good. It's a very practical and very effective method at making sure that when the product launches... it's a product that works. Not one that locks up and does nothing for hours on end.\n",
            "************************************************************************************************************************\n",
            "RECOMMENDATION:\n",
            "Recommended\n",
            "------------------------------------------------------------------------------------------------------------------------\n",
            "REVIEW:\n",
            "One of the best games I ever played.First words that comes to my mind are \"deep immersion\". Developers created a huge beautiful and very realistic world. Subnautica is mainly focused on exploration and it is extremely good. In fact I think that there are no enemies in this game at least I could not perceive any creature as enemy. They are not monsters but just local fauna that live their life in fact they are not even aliens they are at home and you were not invited. There is only one alien on whole planet and this alien is you. Once you learn behaviour of animals you will very rarely encounter any aggression. If for some reason you want to fight... well you may find a prey but bloodshed is absolutely senseless and unnecessary.Game is quite peaceful but it does not mean that there are no dangers in ocean. Pressure lack of oxygen cramped caves limited light... deeper and deeper you went more and more awe you feel. When your submarine hangs over the abyss and you can see nothing but endless cliff and depth... it is scary... well I hardly can remember another game that gave me such intense emotions.World in Subnautica is opened for exploration from the very start you can travel... well everywhere. Still amount of accessable locations is cleverly limited by available technologies. You can try to explore deep caves immediately after planetfall but without supply of oxygen you will just drown. So game softly push player to explore safe shallows first.There is storyline and in my opinion it is very good. I do not want to spoil anything just want to say that storyline is simple but intense yet not intrusive in same time. Bit by bit you will visit all locations and learn all mysteries. Final scene gave me very complex and positive emotions it is beautiful and full of hope with light sadness. It was worth all long way down.Gameplay can be divided into two stages. During first stage you salvage technologies gather resources and craft equipment. There is some grind but I can not say it is boring or tedious... you just explore surroundings and study local life gathering useful items by the way. And second stage is travelling when you gathered enough resources and crafted basic vehicle Seamoth you can explore almost everywhere. There are only three vehicles in game not too much but they are widely customisable. You can install different modules extra armor torpedo launchers defensive electric field and so on also it is available to change appearance of vehicle such as colour and finally you can even give your vehicle a name.You can construct your base that will serve as center of operations. Constructing is simple and effective it is very easy to learn and comfortable to use. There are lot of different modules you can combine and create your awesome station. Even more importantly game offers a lot of different furniture and decorations to customise your base and turn it to... well not just \"a base\" but your home. I really got attached to my tiny but comfortable underwater apartments and my tamed cuddlefish. I really hope that my pets will survive without me... wait it is just a game... *sigh*.Of course I must mention the stunning beauty of Subnautica. Blazing sunsets dense kelp forests impenetrable darkness with sparkles of luminescente flora and fauna... almost every scene literally craves for screenshot. As for sounds and music they are excellent such quality is really impressive. For example I humbly advise you to search for \"Tropical Eden\" melody it creates amazing magical atmosphere I was truly enchanted with.Game is not perfect there are some bugs. Several times I seen fish swimming in my base. Once during exploration of Aurora wreck I got stuck in textures and then suddenly fell out of the world. Well... all this tiny confusing troubles seems insignificant for me.Probably the best advice I can give do not watch videos and do not read guides. Explore by yourself! Believe me pleasure from discovering new things is worth the time. If you love adventure games with main focus on exploration Subnautica is a sure bet. Honestly I do not know any games that can compete with Subnautica in this niche. You do not want to miss this game.\n"
          ]
        }
      ]
    },
    {
      "cell_type": "markdown",
      "metadata": {
        "id": "WnrfNum9ZUev"
      },
      "source": [
        "After taking a closer look, we chose to keep the reviews because although they contain a lot of fluff describing the game, they do so by using words that we believe would help a model decide whether or not a game is recommend. For example, \"It's even worse for me because the game doesn't load at all for me and I have to close it from task manager start it again and reconnect.All of the above issues have been in the game for MONTHS and nothing has been done to fix or even address them. Don't waste your time and nerves on this game\".\n",
        "\n",
        "Moving on, let's look at the word frequencies in each class."
      ]
    },
    {
      "cell_type": "code",
      "metadata": {
        "colab": {
          "base_uri": "https://localhost:8080/",
          "height": 16
        },
        "id": "uNiqCMNTwkey",
        "outputId": "f6eb88e5-c36e-444e-9168-1040dc31eab2"
      },
      "source": [
        "# Create function to create list of words\n",
        "def flatten(column):\n",
        "  \"Returns list from list of lists\"\n",
        "  return [item for sublist in column for item in sublist]"
      ],
      "execution_count": 195,
      "outputs": [
        {
          "output_type": "display_data",
          "data": {
            "text/html": [
              "\n",
              "  <style>\n",
              "    pre {\n",
              "        white-space: pre-wrap;\n",
              "    }\n",
              "  </style>\n",
              "  "
            ],
            "text/plain": [
              "<IPython.core.display.HTML object>"
            ]
          },
          "metadata": {}
        }
      ]
    },
    {
      "cell_type": "code",
      "metadata": {
        "colab": {
          "base_uri": "https://localhost:8080/",
          "height": 16
        },
        "id": "tNXVvSPYumW5",
        "outputId": "36668042-7d36-4309-e4a6-81b1c15c7859"
      },
      "source": [
        "import matplotlib.pyplot as plt\n",
        "\n",
        "def plot_word_freq(df):\n",
        "  \"\"\" This function takes a dataframe, divides the clean text into each class,\n",
        "  and displays the most frequent words along with the unique number of words.\n",
        "  \"\"\"\n",
        "\n",
        "  # Words in both classes\n",
        "  words_in_recommended = flatten(df[df['recommendation'] == 'Recommended']['clean_text'])\n",
        "  words_in_not_recommended = flatten(df[df['recommendation'] == 'Not Recommended']['clean_text'])\n",
        "\n",
        "  # Frequency distributions\n",
        "  freq_recommended = nltk.FreqDist(words_in_recommended)\n",
        "  freq_not_recommended = nltk.FreqDist(words_in_not_recommended)\n",
        "\n",
        "  print(f\"Unique Words in Recommended: {len(freq_recommended.keys()) }\")\n",
        "  print(f\"Unique Words in Recommended: {len(freq_not_recommended.keys()) }\")\n",
        "\n",
        "  # Display frequency distributions\n",
        "  plt.figure(figsize=(10, 7))\n",
        "  plt.title(\"Word Frequencies in Recommended\")\n",
        "  freq_recommended.plot(30, cumulative=False)\n",
        "\n",
        "  plt.figure(figsize=(10, 7))\n",
        "  plt.title(\"Word Frequencies in Not Recommended\")\n",
        "  freq_not_recommended.plot(30, cumulative=False)"
      ],
      "execution_count": 196,
      "outputs": [
        {
          "output_type": "display_data",
          "data": {
            "text/html": [
              "\n",
              "  <style>\n",
              "    pre {\n",
              "        white-space: pre-wrap;\n",
              "    }\n",
              "  </style>\n",
              "  "
            ],
            "text/plain": [
              "<IPython.core.display.HTML object>"
            ]
          },
          "metadata": {}
        }
      ]
    },
    {
      "cell_type": "code",
      "metadata": {
        "colab": {
          "base_uri": "https://localhost:8080/",
          "height": 988
        },
        "id": "mIabeTEaMDWv",
        "outputId": "98afd96d-5512-4b0c-cc7b-3beacfe84495"
      },
      "source": [
        "plot_word_freq(steam_train)"
      ],
      "execution_count": 197,
      "outputs": [
        {
          "output_type": "display_data",
          "data": {
            "text/html": [
              "\n",
              "  <style>\n",
              "    pre {\n",
              "        white-space: pre-wrap;\n",
              "    }\n",
              "  </style>\n",
              "  "
            ],
            "text/plain": [
              "<IPython.core.display.HTML object>"
            ]
          },
          "metadata": {}
        },
        {
          "output_type": "stream",
          "name": "stdout",
          "text": [
            "Unique Words in Recommended: 8710\n",
            "Unique Words in Recommended: 6980\n"
          ]
        },
        {
          "output_type": "display_data",
          "data": {
            "image/png": "[encoded data removed]",
            "text/plain": [
              "<Figure size 720x504 with 1 Axes>"
            ]
          },
          "metadata": {
            "needs_background": "light"
          }
        },
        {
          "output_type": "display_data",
          "data": {
            "image/png": "[encoded data removed]",
            "text/plain": [
              "<Figure size 720x504 with 1 Axes>"
            ]
          },
          "metadata": {
            "needs_background": "light"
          }
        }
      ]
    },
    {
      "cell_type": "markdown",
      "metadata": {
        "id": "W-tRRozpNDSU"
      },
      "source": [
        "After taking a look at our word frequencies, there is an issue we need to address. The word \"game\" is mentioned the most in both reviews. Given that we are analyzing game reviews, this is obviously expected. However, we will opt out of including the word since \"game\" is mentioned in both classes the most."
      ]
    },
    {
      "cell_type": "code",
      "metadata": {
        "colab": {
          "base_uri": "https://localhost:8080/",
          "height": 34
        },
        "id": "HFLcsT0jaibm",
        "outputId": "c6df200c-0e4d-4af2-b516-a4064f001aff"
      },
      "source": [
        "def remove_word(review, word):\n",
        "  return [w for w in review if w != word]\n",
        "\n",
        "\n",
        "sample = ['hello', 'game', 'is', 'cool']\n",
        "\n",
        "remove_word(sample, 'game')"
      ],
      "execution_count": 198,
      "outputs": [
        {
          "output_type": "display_data",
          "data": {
            "text/html": [
              "\n",
              "  <style>\n",
              "    pre {\n",
              "        white-space: pre-wrap;\n",
              "    }\n",
              "  </style>\n",
              "  "
            ],
            "text/plain": [
              "<IPython.core.display.HTML object>"
            ]
          },
          "metadata": {}
        },
        {
          "output_type": "execute_result",
          "data": {
            "text/plain": [
              "['hello', 'is', 'cool']"
            ]
          },
          "metadata": {},
          "execution_count": 198
        }
      ]
    },
    {
      "cell_type": "code",
      "metadata": {
        "colab": {
          "base_uri": "https://localhost:8080/",
          "height": 16
        },
        "id": "6WU-8q4Daa4R",
        "outputId": "8ff049ca-0373-4dff-bef1-a1ed7aa79457"
      },
      "source": [
        "# Remove \"game\" and \"a\" from both classes\n",
        "steam_train['clean_text'] = steam_train['clean_text'].apply(lambda row: remove_word(row, 'game'))\n",
        "steam_train['clean_text'] = steam_train['clean_text'].apply(lambda row: remove_word(row, 'a'))"
      ],
      "execution_count": 199,
      "outputs": [
        {
          "output_type": "display_data",
          "data": {
            "text/html": [
              "\n",
              "  <style>\n",
              "    pre {\n",
              "        white-space: pre-wrap;\n",
              "    }\n",
              "  </style>\n",
              "  "
            ],
            "text/plain": [
              "<IPython.core.display.HTML object>"
            ]
          },
          "metadata": {}
        }
      ]
    },
    {
      "cell_type": "code",
      "metadata": {
        "colab": {
          "base_uri": "https://localhost:8080/",
          "height": 16
        },
        "id": "DaLwBeWubZu-",
        "outputId": "318cf300-87f6-49d4-fa76-b7fbf98aa22a"
      },
      "source": [
        "def plot_horizontal_bar(df):\n",
        "  # Words in both classes\n",
        "  words_in_recommended = flatten(df[df['recommendation'] == 'Recommended']['clean_text'])\n",
        "  words_in_not_recommended = flatten(df[df['recommendation'] == 'Not Recommended']['clean_text'])\n",
        "\n",
        "  # Frequency distributions\n",
        "  freq_recommended = nltk.FreqDist(words_in_recommended)\n",
        "  freq_not_recommended = nltk.FreqDist(words_in_not_recommended)\n",
        "  \n",
        "  # Turn clean frequencies into series\n",
        "  freq_recommended_series = pd.Series(dict(freq_recommended.most_common(10)))\n",
        "  freq_not_recommended_series = pd.Series(dict(freq_not_recommended.most_common(10)))\n",
        "\n",
        "  # Horizontal bar chart\n",
        "  plt.figure(figsize=(10, 7))\n",
        "  plt.title('Most common words in Recommended')\n",
        "  sns.barplot(y=freq_recommended_series.index, x=freq_recommended_series.values)\n",
        "  plt.xticks();\n",
        "\n",
        "  # Horizontal bar chart\n",
        "  plt.figure(figsize=(10, 7))\n",
        "  plt.title(\"Most common words in Not Recommended\")\n",
        "  sns.barplot(y=freq_not_recommended_series.index, x=freq_not_recommended_series.values)\n",
        "  plt.xticks();"
      ],
      "execution_count": 200,
      "outputs": [
        {
          "output_type": "display_data",
          "data": {
            "text/html": [
              "\n",
              "  <style>\n",
              "    pre {\n",
              "        white-space: pre-wrap;\n",
              "    }\n",
              "  </style>\n",
              "  "
            ],
            "text/plain": [
              "<IPython.core.display.HTML object>"
            ]
          },
          "metadata": {}
        }
      ]
    },
    {
      "cell_type": "code",
      "metadata": {
        "id": "H9VrkrEm00Ys",
        "colab": {
          "base_uri": "https://localhost:8080/",
          "height": 871
        },
        "outputId": "d44c8f0a-2519-4330-a0d9-dee075a856c9"
      },
      "source": [
        "plot_horizontal_bar(steam_train)"
      ],
      "execution_count": 201,
      "outputs": [
        {
          "output_type": "display_data",
          "data": {
            "text/html": [
              "\n",
              "  <style>\n",
              "    pre {\n",
              "        white-space: pre-wrap;\n",
              "    }\n",
              "  </style>\n",
              "  "
            ],
            "text/plain": [
              "<IPython.core.display.HTML object>"
            ]
          },
          "metadata": {}
        },
        {
          "output_type": "display_data",
          "data": {
            "image/png": "[encoded data removed]",
            "text/plain": [
              "<Figure size 720x504 with 1 Axes>"
            ]
          },
          "metadata": {
            "needs_background": "light"
          }
        },
        {
          "output_type": "display_data",
          "data": {
            "image/png": "[encoded data removed]",
            "text/plain": [
              "<Figure size 720x504 with 1 Axes>"
            ]
          },
          "metadata": {
            "needs_background": "light"
          }
        }
      ]
    },
    {
      "cell_type": "code",
      "metadata": {
        "colab": {
          "base_uri": "https://localhost:8080/",
          "height": 16
        },
        "id": "xPL9nsk7zFzC",
        "outputId": "7331dc89-196c-4386-cc99-a240f9d73e2c"
      },
      "source": [
        "from wordcloud import WordCloud\n",
        "\n",
        "def word_cloud(df):\n",
        "  # Words in both classes\n",
        "  words_in_recommended = flatten(df[df['recommendation'] == 'Recommended']['clean_text'])\n",
        "  words_in_not_recommended = flatten(df[df['recommendation'] == 'Not Recommended']['clean_text'])\n",
        "\n",
        "  # Frequency distributions\n",
        "  freq_recommended = nltk.FreqDist(words_in_recommended)\n",
        "  freq_not_recommended = nltk.FreqDist(words_in_not_recommended)\n",
        "\n",
        "  # Word Cloud\n",
        "  plt.figure(figsize=(10,7))\n",
        "  plt.title('Recommended', fontsize=20)\n",
        "  wc = WordCloud(background_color=\"white\", max_words=10).generate_from_frequencies(freq_recommended)\n",
        "  plt.imshow(wc)\n",
        "  plt.axis(\"off\")\n",
        "\n",
        "  # Word Cloud\n",
        "  plt.figure(figsize=(10,7))\n",
        "  plt.title('Not Recommended', fontsize=20)\n",
        "  wc = WordCloud(background_color=\"white\", max_words=10).generate_from_frequencies(freq_not_recommended)\n",
        "  plt.imshow(wc)\n",
        "  plt.axis(\"off\");"
      ],
      "execution_count": 202,
      "outputs": [
        {
          "output_type": "display_data",
          "data": {
            "text/html": [
              "\n",
              "  <style>\n",
              "    pre {\n",
              "        white-space: pre-wrap;\n",
              "    }\n",
              "  </style>\n",
              "  "
            ],
            "text/plain": [
              "<IPython.core.display.HTML object>"
            ]
          },
          "metadata": {}
        }
      ]
    },
    {
      "cell_type": "code",
      "metadata": {
        "colab": {
          "base_uri": "https://localhost:8080/",
          "height": 644
        },
        "id": "179VZiPTb7uO",
        "outputId": "afbf13b6-a099-4d77-a921-a048fac274f3"
      },
      "source": [
        "word_cloud(steam_train)"
      ],
      "execution_count": 80,
      "outputs": [
        {
          "output_type": "display_data",
          "data": {
            "text/html": [
              "\n",
              "  <style>\n",
              "    pre {\n",
              "        white-space: pre-wrap;\n",
              "    }\n",
              "  </style>\n",
              "  "
            ],
            "text/plain": [
              "<IPython.core.display.HTML object>"
            ]
          },
          "metadata": {}
        },
        {
          "output_type": "display_data",
          "data": {
            "image/png": "[encoded data removed]",
            "text/plain": [
              "<Figure size 720x504 with 1 Axes>"
            ]
          },
          "metadata": {
            "needs_background": "light"
          }
        },
        {
          "output_type": "display_data",
          "data": {
            "image/png": "[encoded data removed]",
            "text/plain": [
              "<Figure size 720x504 with 1 Axes>"
            ]
          },
          "metadata": {
            "needs_background": "light"
          }
        }
      ]
    },
    {
      "cell_type": "markdown",
      "metadata": {
        "id": "1ZsXDZt3cjww"
      },
      "source": [
        "We are now done with our text analysis, let's go ahead and start building our models."
      ]
    },
    {
      "cell_type": "markdown",
      "metadata": {
        "id": "hUrXtbvOCSZ-"
      },
      "source": [
        "# Models\n",
        "\n",
        "For our project, we are going to build 6 different models. We will perform cross validation for each model and hyper-parameter tuning. After choosing our best model, we will do a final evaluation using our test data. First we will start by creating the TF-IDF feature from our cleaned review data.\n",
        "\n",
        "Here are the models we will be working with:\n",
        "\n",
        "1. Naive Bayes\n",
        "2. Linear SVM\n",
        "3. Logistic Regression\n",
        "4. Random Forest\n",
        "5. Ensemble Learning\n",
        "  1. Linear SVM, Logistic Regression, Random Forest - Hard Voting\n",
        "  2. Naive Bayes, Logistic Regression, Random Forest - Soft Voting\n",
        "\n"
      ]
    },
    {
      "cell_type": "code",
      "metadata": {
        "colab": {
          "base_uri": "https://localhost:8080/",
          "height": 16
        },
        "id": "OJGKov9r1xPs",
        "outputId": "59aa8f31-f968-486d-e850-329b8ab9c924"
      },
      "source": [
        "from sklearn.feature_extraction.text import CountVectorizer\n",
        "from sklearn.feature_extraction.text import TfidfTransformer\n",
        "from sklearn.pipeline import Pipeline\n",
        "\n",
        "# Our data is already tokenized, this function helps bypass sklearn's\n",
        "def dummy(doc):\n",
        "    return doc\n",
        "\n",
        "# Create \n",
        "tf_idf_pipeline = Pipeline([\n",
        "     ('vect', CountVectorizer(tokenizer=dummy, preprocessor=dummy, lowercase=False)),\n",
        "     ('tfidf', TfidfTransformer())\n",
        " ])\n",
        "\n",
        "# Create X and y\n",
        "X_train, y_train = steam_train['clean_text'], steam_train['rec_labels']\n",
        "\n",
        "# Transform X_train\n",
        "X_train_tfidf = tf_idf_pipeline.fit_transform(X_train)\n",
        "\n",
        "# Create train and validation sets\n",
        "X_train_tfidf, X_val_tfidf, y_train, y_val = train_test_split(X_train_tfidf, y_train, test_size=0.2)"
      ],
      "execution_count": 208,
      "outputs": [
        {
          "output_type": "display_data",
          "data": {
            "text/html": [
              "\n",
              "  <style>\n",
              "    pre {\n",
              "        white-space: pre-wrap;\n",
              "    }\n",
              "  </style>\n",
              "  "
            ],
            "text/plain": [
              "<IPython.core.display.HTML object>"
            ]
          },
          "metadata": {}
        }
      ]
    },
    {
      "cell_type": "code",
      "metadata": {
        "colab": {
          "base_uri": "https://localhost:8080/",
          "height": 16
        },
        "id": "VRilhb6Xhaps",
        "outputId": "a1c14f46-6c52-41e3-d442-5f934faaa403"
      },
      "source": [
        "# This function is taken directly from Daniel Bourke's Tensorflow course on Udemy\n",
        "# Here is the direct link https://github.com/mrdbourke/tensorflow-deep-learning/blob/main/extras/helper_functions.py\n",
        "from sklearn.metrics import plot_confusion_matrix\n",
        "from sklearn.metrics import confusion_matrix\n",
        "from sklearn.metrics import classification_report \n",
        "import itertools\n",
        "\n",
        "# 1: Not Recommended, 0: Recommended\n",
        "labels = {0:\"Not Recommended\", 1:\"Recommended\"}\n",
        "\n",
        "# Our function needs a different name to sklearn's plot_confusion_matrix\n",
        "def make_confusion_matrix(y_true, y_pred, classes=None, figsize=(10, 10), text_size=15, norm=False): \n",
        "  \"\"\"Makes a labelled confusion matrix comparing predictions and ground truth labels.\n",
        "  If classes is passed, confusion matrix will be labelled, if not, integer class values\n",
        "  will be used.\n",
        "  Args:\n",
        "    y_true: Array of truth labels (must be same shape as y_pred).\n",
        "    y_pred: Array of predicted labels (must be same shape as y_true).\n",
        "    classes: Array of class labels (e.g. string form). If `None`, integer labels are used.\n",
        "    figsize: Size of output figure (default=(10, 10)).\n",
        "    text_size: Size of output figure text (default=15).\n",
        "    norm: normalize values or not (default=False).\n",
        "    savefig: save confusion matrix to file (default=False).\n",
        "  \n",
        "  Returns:\n",
        "    A labelled confusion matrix plot comparing y_true and y_pred.\n",
        "  Example usage:\n",
        "    make_confusion_matrix(y_true=test_labels, # ground truth test labels\n",
        "                          y_pred=y_preds, # predicted labels\n",
        "                          classes=class_names, # array of class label names\n",
        "                          figsize=(15, 15),\n",
        "                          text_size=10)\n",
        "  \"\"\"  \n",
        "  # Create the confustion matrix\n",
        "  cm = confusion_matrix(y_true, y_pred)\n",
        "  cm_norm = cm.astype(\"float\") / cm.sum(axis=1)[:, np.newaxis] # normalize it\n",
        "  n_classes = cm.shape[0] # find the number of classes we're dealing with\n",
        "\n",
        "  # Plot the figure and make it pretty\n",
        "  fig, ax = plt.subplots(figsize=figsize)\n",
        "  cax = ax.matshow(cm, cmap=plt.cm.Blues) # colors will represent how 'correct' a class is, darker == better\n",
        "  fig.colorbar(cax)\n",
        "\n",
        "  # Are there a list of classes?\n",
        "  if classes:\n",
        "    labels = [classes[i] for i in classes]\n",
        "  else:\n",
        "    labels = np.arange(cm.shape[0])\n",
        "  \n",
        "  # Label the axes\n",
        "  ax.set(title=\"Confusion Matrix\",\n",
        "         xlabel=\"Predicted label\",\n",
        "         ylabel=\"True label\",\n",
        "         xticks=np.arange(n_classes), # create enough axis slots for each class\n",
        "         yticks=np.arange(n_classes), \n",
        "         xticklabels=labels, # axes will labeled with class names (if they exist) or ints\n",
        "         yticklabels=labels)\n",
        "  \n",
        "  # Make x-axis labels appear on bottom\n",
        "  ax.xaxis.set_label_position(\"bottom\")\n",
        "  ax.xaxis.tick_bottom()\n",
        "\n",
        "  # Set the threshold for different colors\n",
        "  threshold = (cm.max() + cm.min()) / 2.\n",
        "\n",
        "  # Plot the text on each cell\n",
        "  for i, j in itertools.product(range(cm.shape[0]), range(cm.shape[1])):\n",
        "    if norm:\n",
        "      plt.text(j, i, f\"{cm[i, j]} ({cm_norm[i, j]*100:.1f}%)\",\n",
        "              horizontalalignment=\"center\",\n",
        "              color=\"white\" if cm[i, j] > threshold else \"black\",\n",
        "              size=text_size)\n",
        "    else:\n",
        "      plt.text(j, i, f\"{cm[i, j]}\",\n",
        "              horizontalalignment=\"center\",\n",
        "              color=\"white\" if cm[i, j] > threshold else \"black\",\n",
        "              size=text_size)"
      ],
      "execution_count": 204,
      "outputs": [
        {
          "output_type": "display_data",
          "data": {
            "text/html": [
              "\n",
              "  <style>\n",
              "    pre {\n",
              "        white-space: pre-wrap;\n",
              "    }\n",
              "  </style>\n",
              "  "
            ],
            "text/plain": [
              "<IPython.core.display.HTML object>"
            ]
          },
          "metadata": {}
        }
      ]
    },
    {
      "cell_type": "markdown",
      "metadata": {
        "id": "MX1jkUINzyQw"
      },
      "source": [
        "### Naive Bayes"
      ]
    },
    {
      "cell_type": "code",
      "metadata": {
        "colab": {
          "base_uri": "https://localhost:8080/",
          "height": 123
        },
        "id": "bziSz4TR0BvV",
        "outputId": "975a7f75-55c3-4f36-cc3b-aa77e2cc1bb7"
      },
      "source": [
        "from sklearn.naive_bayes import MultinomialNB\n",
        "from sklearn.model_selection import GridSearchCV\n",
        "\n",
        "nb_clf = MultinomialNB()\n",
        "\n",
        "# Training with Default parameters\n",
        "nb_clf_gs = GridSearchCV(nb_clf, param_grid={})\n",
        "\n",
        "nb_clf_gs.fit(X_train_tfidf, y_train)"
      ],
      "execution_count": 83,
      "outputs": [
        {
          "output_type": "display_data",
          "data": {
            "text/html": [
              "\n",
              "  <style>\n",
              "    pre {\n",
              "        white-space: pre-wrap;\n",
              "    }\n",
              "  </style>\n",
              "  "
            ],
            "text/plain": [
              "<IPython.core.display.HTML object>"
            ]
          },
          "metadata": {}
        },
        {
          "output_type": "execute_result",
          "data": {
            "text/plain": [
              "GridSearchCV(cv=None, error_score=nan,\n",
              "             estimator=MultinomialNB(alpha=1.0, class_prior=None,\n",
              "                                     fit_prior=True),\n",
              "             iid='deprecated', n_jobs=None, param_grid={},\n",
              "             pre_dispatch='2*n_jobs', refit=True, return_train_score=False,\n",
              "             scoring=None, verbose=0)"
            ]
          },
          "metadata": {},
          "execution_count": 83
        }
      ]
    },
    {
      "cell_type": "code",
      "metadata": {
        "colab": {
          "base_uri": "https://localhost:8080/",
          "height": 734
        },
        "id": "dUvIPS7b9uYh",
        "outputId": "66e07f59-bad2-4f24-b7dd-bb59ff380ae7"
      },
      "source": [
        "# Store predictions\n",
        "y_preds = nb_clf_gs.predict(X_val_tfidf)\n",
        "\n",
        "# Print classification report\n",
        "print(classification_report(y_val, y_preds, target_names=['Not Recommended', 'Recommended']))\n",
        "\n",
        "# Display confusion matrix\n",
        "make_confusion_matrix(y_val, y_preds, classes=labels)"
      ],
      "execution_count": 84,
      "outputs": [
        {
          "output_type": "display_data",
          "data": {
            "text/html": [
              "\n",
              "  <style>\n",
              "    pre {\n",
              "        white-space: pre-wrap;\n",
              "    }\n",
              "  </style>\n",
              "  "
            ],
            "text/plain": [
              "<IPython.core.display.HTML object>"
            ]
          },
          "metadata": {}
        },
        {
          "output_type": "stream",
          "name": "stdout",
          "text": [
            "                 precision    recall  f1-score   support\n",
            "\n",
            "Not Recommended       0.85      0.28      0.42       578\n",
            "    Recommended       0.76      0.98      0.85      1326\n",
            "\n",
            "       accuracy                           0.77      1904\n",
            "      macro avg       0.81      0.63      0.63      1904\n",
            "   weighted avg       0.79      0.77      0.72      1904\n",
            "\n"
          ]
        },
        {
          "output_type": "display_data",
          "data": {
            "image/png": "[encoded data removed]",
            "text/plain": [
              "<Figure size 720x720 with 2 Axes>"
            ]
          },
          "metadata": {
            "needs_background": "light"
          }
        }
      ]
    },
    {
      "cell_type": "markdown",
      "metadata": {
        "id": "1BHXklf4CoKm"
      },
      "source": [
        "### Linear SVM"
      ]
    },
    {
      "cell_type": "code",
      "metadata": {
        "colab": {
          "base_uri": "https://localhost:8080/",
          "height": 283
        },
        "id": "H5ZiOEKXCpaT",
        "outputId": "eabed3b6-5d03-409a-cf1d-f4cf774614ef"
      },
      "source": [
        "from sklearn.svm import LinearSVC\n",
        "\n",
        "param_grid = {'C': np.logspace(-5, 5, 13) }\n",
        "\n",
        "svm_clf = LinearSVC()\n",
        "\n",
        "# Training with Default parameters\n",
        "svm_clf_gs = GridSearchCV(svm_clf, param_grid=param_grid)\n",
        "\n",
        "svm_clf_gs.fit(X_train_tfidf, y_train)"
      ],
      "execution_count": 85,
      "outputs": [
        {
          "output_type": "display_data",
          "data": {
            "text/html": [
              "\n",
              "  <style>\n",
              "    pre {\n",
              "        white-space: pre-wrap;\n",
              "    }\n",
              "  </style>\n",
              "  "
            ],
            "text/plain": [
              "<IPython.core.display.HTML object>"
            ]
          },
          "metadata": {}
        },
        {
          "output_type": "stream",
          "name": "stderr",
          "text": [
            "/usr/local/lib/python3.7/dist-packages/sklearn/svm/_base.py:947: ConvergenceWarning: Liblinear failed to converge, increase the number of iterations.\n",
            "  \"the number of iterations.\", ConvergenceWarning)\n"
          ]
        },
        {
          "output_type": "execute_result",
          "data": {
            "text/plain": [
              "GridSearchCV(cv=None, error_score=nan,\n",
              "             estimator=LinearSVC(C=1.0, class_weight=None, dual=True,\n",
              "                                 fit_intercept=True, intercept_scaling=1,\n",
              "                                 loss='squared_hinge', max_iter=1000,\n",
              "                                 multi_class='ovr', penalty='l2',\n",
              "                                 random_state=None, tol=0.0001, verbose=0),\n",
              "             iid='deprecated', n_jobs=None,\n",
              "             param_grid={'C': array([1.00000000e-05, 6.81292069e-05, 4.64158883e-04, 3.16227766e-03,\n",
              "       2.15443469e-02, 1.46779927e-01, 1.00000000e+00, 6.81292069e+00,\n",
              "       4.64158883e+01, 3.16227766e+02, 2.15443469e+03, 1.46779927e+04,\n",
              "       1.00000000e+05])},\n",
              "             pre_dispatch='2*n_jobs', refit=True, return_train_score=False,\n",
              "             scoring=None, verbose=0)"
            ]
          },
          "metadata": {},
          "execution_count": 85
        }
      ]
    },
    {
      "cell_type": "code",
      "metadata": {
        "colab": {
          "base_uri": "https://localhost:8080/",
          "height": 734
        },
        "id": "RcWPYmLUn-2p",
        "outputId": "cd43b1fd-d382-4b34-f35d-7ea449ccb8e4"
      },
      "source": [
        "# Store predictions\n",
        "y_preds = svm_clf_gs.predict(X_val_tfidf)\n",
        "\n",
        "# Print classification report\n",
        "print(classification_report(y_val, y_preds, target_names=['Not Recommended', 'Recommended']))\n",
        "\n",
        "# Display confusion matrix\n",
        "make_confusion_matrix(y_val, y_preds, classes=labels)"
      ],
      "execution_count": 86,
      "outputs": [
        {
          "output_type": "display_data",
          "data": {
            "text/html": [
              "\n",
              "  <style>\n",
              "    pre {\n",
              "        white-space: pre-wrap;\n",
              "    }\n",
              "  </style>\n",
              "  "
            ],
            "text/plain": [
              "<IPython.core.display.HTML object>"
            ]
          },
          "metadata": {}
        },
        {
          "output_type": "stream",
          "name": "stdout",
          "text": [
            "                 precision    recall  f1-score   support\n",
            "\n",
            "Not Recommended       0.78      0.59      0.67       578\n",
            "    Recommended       0.84      0.93      0.88      1326\n",
            "\n",
            "       accuracy                           0.83      1904\n",
            "      macro avg       0.81      0.76      0.78      1904\n",
            "   weighted avg       0.82      0.83      0.82      1904\n",
            "\n"
          ]
        },
        {
          "output_type": "display_data",
          "data": {
            "image/png": "[encoded data removed]",
            "text/plain": [
              "<Figure size 720x720 with 2 Axes>"
            ]
          },
          "metadata": {
            "needs_background": "light"
          }
        }
      ]
    },
    {
      "cell_type": "markdown",
      "metadata": {
        "id": "sXvZ2pLnDF8O"
      },
      "source": [
        "### Logistic Regression"
      ]
    },
    {
      "cell_type": "code",
      "metadata": {
        "colab": {
          "base_uri": "https://localhost:8080/",
          "height": 1000
        },
        "id": "khwPuapcDEt5",
        "outputId": "8b594588-bdee-4af0-ccb1-e3220f4bff52"
      },
      "source": [
        "from sklearn.linear_model import LogisticRegression\n",
        "\n",
        "log_reg_clf = LogisticRegression()\n",
        "\n",
        "param_grid = {'C':[100, 10, 1.0, 0.1, 0.01]}\n",
        "\n",
        "# Training with Default parameters\n",
        "log_reg_clf_gs = GridSearchCV(log_reg_clf, param_grid=param_grid)\n",
        "\n",
        "log_reg_clf_gs.fit(X_train_tfidf, y_train)"
      ],
      "execution_count": 87,
      "outputs": [
        {
          "output_type": "display_data",
          "data": {
            "text/html": [
              "\n",
              "  <style>\n",
              "    pre {\n",
              "        white-space: pre-wrap;\n",
              "    }\n",
              "  </style>\n",
              "  "
            ],
            "text/plain": [
              "<IPython.core.display.HTML object>"
            ]
          },
          "metadata": {}
        },
        {
          "output_type": "stream",
          "name": "stderr",
          "text": [
            "/usr/local/lib/python3.7/dist-packages/sklearn/linear_model/_logistic.py:940: ConvergenceWarning: lbfgs failed to converge (status=1):\n",
            "STOP: TOTAL NO. of ITERATIONS REACHED LIMIT.\n",
            "\n",
            "Increase the number of iterations (max_iter) or scale the data as shown in:\n",
            "    https://scikit-learn.org/stable/modules/preprocessing.html\n",
            "Please also refer to the documentation for alternative solver options:\n",
            "    https://scikit-learn.org/stable/modules/linear_model.html#logistic-regression\n",
            "  extra_warning_msg=_LOGISTIC_SOLVER_CONVERGENCE_MSG)\n",
            "/usr/local/lib/python3.7/dist-packages/sklearn/linear_model/_logistic.py:940: ConvergenceWarning: lbfgs failed to converge (status=1):\n",
            "STOP: TOTAL NO. of ITERATIONS REACHED LIMIT.\n",
            "\n",
            "Increase the number of iterations (max_iter) or scale the data as shown in:\n",
            "    https://scikit-learn.org/stable/modules/preprocessing.html\n",
            "Please also refer to the documentation for alternative solver options:\n",
            "    https://scikit-learn.org/stable/modules/linear_model.html#logistic-regression\n",
            "  extra_warning_msg=_LOGISTIC_SOLVER_CONVERGENCE_MSG)\n",
            "/usr/local/lib/python3.7/dist-packages/sklearn/linear_model/_logistic.py:940: ConvergenceWarning: lbfgs failed to converge (status=1):\n",
            "STOP: TOTAL NO. of ITERATIONS REACHED LIMIT.\n",
            "\n",
            "Increase the number of iterations (max_iter) or scale the data as shown in:\n",
            "    https://scikit-learn.org/stable/modules/preprocessing.html\n",
            "Please also refer to the documentation for alternative solver options:\n",
            "    https://scikit-learn.org/stable/modules/linear_model.html#logistic-regression\n",
            "  extra_warning_msg=_LOGISTIC_SOLVER_CONVERGENCE_MSG)\n",
            "/usr/local/lib/python3.7/dist-packages/sklearn/linear_model/_logistic.py:940: ConvergenceWarning: lbfgs failed to converge (status=1):\n",
            "STOP: TOTAL NO. of ITERATIONS REACHED LIMIT.\n",
            "\n",
            "Increase the number of iterations (max_iter) or scale the data as shown in:\n",
            "    https://scikit-learn.org/stable/modules/preprocessing.html\n",
            "Please also refer to the documentation for alternative solver options:\n",
            "    https://scikit-learn.org/stable/modules/linear_model.html#logistic-regression\n",
            "  extra_warning_msg=_LOGISTIC_SOLVER_CONVERGENCE_MSG)\n",
            "/usr/local/lib/python3.7/dist-packages/sklearn/linear_model/_logistic.py:940: ConvergenceWarning: lbfgs failed to converge (status=1):\n",
            "STOP: TOTAL NO. of ITERATIONS REACHED LIMIT.\n",
            "\n",
            "Increase the number of iterations (max_iter) or scale the data as shown in:\n",
            "    https://scikit-learn.org/stable/modules/preprocessing.html\n",
            "Please also refer to the documentation for alternative solver options:\n",
            "    https://scikit-learn.org/stable/modules/linear_model.html#logistic-regression\n",
            "  extra_warning_msg=_LOGISTIC_SOLVER_CONVERGENCE_MSG)\n",
            "/usr/local/lib/python3.7/dist-packages/sklearn/linear_model/_logistic.py:940: ConvergenceWarning: lbfgs failed to converge (status=1):\n",
            "STOP: TOTAL NO. of ITERATIONS REACHED LIMIT.\n",
            "\n",
            "Increase the number of iterations (max_iter) or scale the data as shown in:\n",
            "    https://scikit-learn.org/stable/modules/preprocessing.html\n",
            "Please also refer to the documentation for alternative solver options:\n",
            "    https://scikit-learn.org/stable/modules/linear_model.html#logistic-regression\n",
            "  extra_warning_msg=_LOGISTIC_SOLVER_CONVERGENCE_MSG)\n",
            "/usr/local/lib/python3.7/dist-packages/sklearn/linear_model/_logistic.py:940: ConvergenceWarning: lbfgs failed to converge (status=1):\n",
            "STOP: TOTAL NO. of ITERATIONS REACHED LIMIT.\n",
            "\n",
            "Increase the number of iterations (max_iter) or scale the data as shown in:\n",
            "    https://scikit-learn.org/stable/modules/preprocessing.html\n",
            "Please also refer to the documentation for alternative solver options:\n",
            "    https://scikit-learn.org/stable/modules/linear_model.html#logistic-regression\n",
            "  extra_warning_msg=_LOGISTIC_SOLVER_CONVERGENCE_MSG)\n",
            "/usr/local/lib/python3.7/dist-packages/sklearn/linear_model/_logistic.py:940: ConvergenceWarning: lbfgs failed to converge (status=1):\n",
            "STOP: TOTAL NO. of ITERATIONS REACHED LIMIT.\n",
            "\n",
            "Increase the number of iterations (max_iter) or scale the data as shown in:\n",
            "    https://scikit-learn.org/stable/modules/preprocessing.html\n",
            "Please also refer to the documentation for alternative solver options:\n",
            "    https://scikit-learn.org/stable/modules/linear_model.html#logistic-regression\n",
            "  extra_warning_msg=_LOGISTIC_SOLVER_CONVERGENCE_MSG)\n",
            "/usr/local/lib/python3.7/dist-packages/sklearn/linear_model/_logistic.py:940: ConvergenceWarning: lbfgs failed to converge (status=1):\n",
            "STOP: TOTAL NO. of ITERATIONS REACHED LIMIT.\n",
            "\n",
            "Increase the number of iterations (max_iter) or scale the data as shown in:\n",
            "    https://scikit-learn.org/stable/modules/preprocessing.html\n",
            "Please also refer to the documentation for alternative solver options:\n",
            "    https://scikit-learn.org/stable/modules/linear_model.html#logistic-regression\n",
            "  extra_warning_msg=_LOGISTIC_SOLVER_CONVERGENCE_MSG)\n"
          ]
        },
        {
          "output_type": "execute_result",
          "data": {
            "text/plain": [
              "GridSearchCV(cv=None, error_score=nan,\n",
              "             estimator=LogisticRegression(C=1.0, class_weight=None, dual=False,\n",
              "                                          fit_intercept=True,\n",
              "                                          intercept_scaling=1, l1_ratio=None,\n",
              "                                          max_iter=100, multi_class='auto',\n",
              "                                          n_jobs=None, penalty='l2',\n",
              "                                          random_state=None, solver='lbfgs',\n",
              "                                          tol=0.0001, verbose=0,\n",
              "                                          warm_start=False),\n",
              "             iid='deprecated', n_jobs=None,\n",
              "             param_grid={'C': [100, 10, 1.0, 0.1, 0.01]},\n",
              "             pre_dispatch='2*n_jobs', refit=True, return_train_score=False,\n",
              "             scoring=None, verbose=0)"
            ]
          },
          "metadata": {},
          "execution_count": 87
        }
      ]
    },
    {
      "cell_type": "code",
      "metadata": {
        "colab": {
          "base_uri": "https://localhost:8080/",
          "height": 734
        },
        "id": "6dhAvxm4o9CJ",
        "outputId": "02062482-f852-4afd-e867-7894429e4483"
      },
      "source": [
        "# Store predictions\n",
        "y_preds = log_reg_clf_gs.predict(X_val_tfidf)\n",
        "\n",
        "# Print classification report\n",
        "print(classification_report(y_val, y_preds, target_names=['Not Recommended', 'Recommended']))\n",
        "\n",
        "# Display confusion matrix\n",
        "make_confusion_matrix(y_val, y_preds, classes=labels)"
      ],
      "execution_count": 88,
      "outputs": [
        {
          "output_type": "display_data",
          "data": {
            "text/html": [
              "\n",
              "  <style>\n",
              "    pre {\n",
              "        white-space: pre-wrap;\n",
              "    }\n",
              "  </style>\n",
              "  "
            ],
            "text/plain": [
              "<IPython.core.display.HTML object>"
            ]
          },
          "metadata": {}
        },
        {
          "output_type": "stream",
          "name": "stdout",
          "text": [
            "                 precision    recall  f1-score   support\n",
            "\n",
            "Not Recommended       0.80      0.57      0.66       578\n",
            "    Recommended       0.83      0.94      0.88      1326\n",
            "\n",
            "       accuracy                           0.83      1904\n",
            "      macro avg       0.81      0.75      0.77      1904\n",
            "   weighted avg       0.82      0.83      0.82      1904\n",
            "\n"
          ]
        },
        {
          "output_type": "display_data",
          "data": {
            "image/png": "[encoded data removed]",
            "text/plain": [
              "<Figure size 720x720 with 2 Axes>"
            ]
          },
          "metadata": {
            "needs_background": "light"
          }
        }
      ]
    },
    {
      "cell_type": "markdown",
      "metadata": {
        "id": "Y4z16wGxDpfD"
      },
      "source": [
        "### Random Forest"
      ]
    },
    {
      "cell_type": "code",
      "metadata": {
        "colab": {
          "base_uri": "https://localhost:8080/",
          "height": 372
        },
        "id": "Gazr3CGjDrQk",
        "outputId": "5bd373df-0cde-4a7c-dd6b-96a5b47b9608"
      },
      "source": [
        "from sklearn.ensemble import RandomForestClassifier\n",
        "\n",
        "forest_clf = RandomForestClassifier()\n",
        "\n",
        "splits = [3, 5, 7, 9]\n",
        "\n",
        "parameters = {'min_samples_split':splits}\n",
        "\n",
        "forest_clf_gs = GridSearchCV(forest_clf, param_grid=parameters)\n",
        "\n",
        "forest_clf_gs.fit(X_train_tfidf, y_train)"
      ],
      "execution_count": 89,
      "outputs": [
        {
          "output_type": "display_data",
          "data": {
            "text/html": [
              "\n",
              "  <style>\n",
              "    pre {\n",
              "        white-space: pre-wrap;\n",
              "    }\n",
              "  </style>\n",
              "  "
            ],
            "text/plain": [
              "<IPython.core.display.HTML object>"
            ]
          },
          "metadata": {}
        },
        {
          "output_type": "execute_result",
          "data": {
            "text/plain": [
              "GridSearchCV(cv=None, error_score=nan,\n",
              "             estimator=RandomForestClassifier(bootstrap=True, ccp_alpha=0.0,\n",
              "                                              class_weight=None,\n",
              "                                              criterion='gini', max_depth=None,\n",
              "                                              max_features='auto',\n",
              "                                              max_leaf_nodes=None,\n",
              "                                              max_samples=None,\n",
              "                                              min_impurity_decrease=0.0,\n",
              "                                              min_impurity_split=None,\n",
              "                                              min_samples_leaf=1,\n",
              "                                              min_samples_split=2,\n",
              "                                              min_weight_fraction_leaf=0.0,\n",
              "                                              n_estimators=100, n_jobs=None,\n",
              "                                              oob_score=False,\n",
              "                                              random_state=None, verbose=0,\n",
              "                                              warm_start=False),\n",
              "             iid='deprecated', n_jobs=None,\n",
              "             param_grid={'min_samples_split': [3, 5, 7, 9]},\n",
              "             pre_dispatch='2*n_jobs', refit=True, return_train_score=False,\n",
              "             scoring=None, verbose=0)"
            ]
          },
          "metadata": {},
          "execution_count": 89
        }
      ]
    },
    {
      "cell_type": "code",
      "metadata": {
        "colab": {
          "base_uri": "https://localhost:8080/",
          "height": 734
        },
        "id": "58zDBHPxprta",
        "outputId": "3403d6fc-df68-4187-ab01-25869ed37661"
      },
      "source": [
        "# Store predictions\n",
        "y_preds = forest_clf_gs.predict(X_val_tfidf)\n",
        "\n",
        "# Print classification report\n",
        "print(classification_report(y_val, y_preds, target_names=['Not Recommended', 'Recommended']))\n",
        "\n",
        "# Display confusion matrix\n",
        "make_confusion_matrix(y_val, y_preds, classes=labels)"
      ],
      "execution_count": 90,
      "outputs": [
        {
          "output_type": "display_data",
          "data": {
            "text/html": [
              "\n",
              "  <style>\n",
              "    pre {\n",
              "        white-space: pre-wrap;\n",
              "    }\n",
              "  </style>\n",
              "  "
            ],
            "text/plain": [
              "<IPython.core.display.HTML object>"
            ]
          },
          "metadata": {}
        },
        {
          "output_type": "stream",
          "name": "stdout",
          "text": [
            "                 precision    recall  f1-score   support\n",
            "\n",
            "Not Recommended       0.76      0.55      0.64       578\n",
            "    Recommended       0.83      0.92      0.87      1326\n",
            "\n",
            "       accuracy                           0.81      1904\n",
            "      macro avg       0.79      0.74      0.76      1904\n",
            "   weighted avg       0.81      0.81      0.80      1904\n",
            "\n"
          ]
        },
        {
          "output_type": "display_data",
          "data": {
            "image/png": "[encoded data removed]",
            "text/plain": [
              "<Figure size 720x720 with 2 Axes>"
            ]
          },
          "metadata": {
            "needs_background": "light"
          }
        }
      ]
    },
    {
      "cell_type": "markdown",
      "metadata": {
        "id": "Mr1oUa5Cpwi6"
      },
      "source": [
        "### Ensemble Learning (Linear SVC, Log Reg, Random Forest) - Hard Voting\n",
        "\n",
        "For this ensemble, we will use the best parameters found from the previous grid searches. We perform hard voting given that our Linear SVC does not provide predicted probabilities.\n"
      ]
    },
    {
      "cell_type": "code",
      "metadata": {
        "colab": {
          "base_uri": "https://localhost:8080/",
          "height": 1000
        },
        "id": "SS_pC5Xtp2j0",
        "outputId": "854080f0-4307-4a6b-de6f-0e74ca6a3da2"
      },
      "source": [
        "from sklearn.ensemble import VotingClassifier\n",
        "\n",
        "# Setup our estimators\n",
        "estimators = [('svc', svm_clf_gs), ('log_reg', log_reg_clf_gs), ('forest_clf', forest_clf_gs)]\n",
        "\n",
        "voting_clf = VotingClassifier(estimators=estimators, voting='hard')\n",
        "\n",
        "# Fit the data\n",
        "voting_clf.fit(X_train_tfidf, y_train)"
      ],
      "execution_count": 214,
      "outputs": [
        {
          "output_type": "display_data",
          "data": {
            "text/html": [
              "\n",
              "  <style>\n",
              "    pre {\n",
              "        white-space: pre-wrap;\n",
              "    }\n",
              "  </style>\n",
              "  "
            ],
            "text/plain": [
              "<IPython.core.display.HTML object>"
            ]
          },
          "metadata": {}
        },
        {
          "output_type": "stream",
          "name": "stderr",
          "text": [
            "/usr/local/lib/python3.7/dist-packages/sklearn/svm/_base.py:947: ConvergenceWarning: Liblinear failed to converge, increase the number of iterations.\n",
            "  \"the number of iterations.\", ConvergenceWarning)\n",
            "/usr/local/lib/python3.7/dist-packages/sklearn/linear_model/_logistic.py:940: ConvergenceWarning: lbfgs failed to converge (status=1):\n",
            "STOP: TOTAL NO. of ITERATIONS REACHED LIMIT.\n",
            "\n",
            "Increase the number of iterations (max_iter) or scale the data as shown in:\n",
            "    https://scikit-learn.org/stable/modules/preprocessing.html\n",
            "Please also refer to the documentation for alternative solver options:\n",
            "    https://scikit-learn.org/stable/modules/linear_model.html#logistic-regression\n",
            "  extra_warning_msg=_LOGISTIC_SOLVER_CONVERGENCE_MSG)\n",
            "/usr/local/lib/python3.7/dist-packages/sklearn/linear_model/_logistic.py:940: ConvergenceWarning: lbfgs failed to converge (status=1):\n",
            "STOP: TOTAL NO. of ITERATIONS REACHED LIMIT.\n",
            "\n",
            "Increase the number of iterations (max_iter) or scale the data as shown in:\n",
            "    https://scikit-learn.org/stable/modules/preprocessing.html\n",
            "Please also refer to the documentation for alternative solver options:\n",
            "    https://scikit-learn.org/stable/modules/linear_model.html#logistic-regression\n",
            "  extra_warning_msg=_LOGISTIC_SOLVER_CONVERGENCE_MSG)\n",
            "/usr/local/lib/python3.7/dist-packages/sklearn/linear_model/_logistic.py:940: ConvergenceWarning: lbfgs failed to converge (status=1):\n",
            "STOP: TOTAL NO. of ITERATIONS REACHED LIMIT.\n",
            "\n",
            "Increase the number of iterations (max_iter) or scale the data as shown in:\n",
            "    https://scikit-learn.org/stable/modules/preprocessing.html\n",
            "Please also refer to the documentation for alternative solver options:\n",
            "    https://scikit-learn.org/stable/modules/linear_model.html#logistic-regression\n",
            "  extra_warning_msg=_LOGISTIC_SOLVER_CONVERGENCE_MSG)\n",
            "/usr/local/lib/python3.7/dist-packages/sklearn/linear_model/_logistic.py:940: ConvergenceWarning: lbfgs failed to converge (status=1):\n",
            "STOP: TOTAL NO. of ITERATIONS REACHED LIMIT.\n",
            "\n",
            "Increase the number of iterations (max_iter) or scale the data as shown in:\n",
            "    https://scikit-learn.org/stable/modules/preprocessing.html\n",
            "Please also refer to the documentation for alternative solver options:\n",
            "    https://scikit-learn.org/stable/modules/linear_model.html#logistic-regression\n",
            "  extra_warning_msg=_LOGISTIC_SOLVER_CONVERGENCE_MSG)\n",
            "/usr/local/lib/python3.7/dist-packages/sklearn/linear_model/_logistic.py:940: ConvergenceWarning: lbfgs failed to converge (status=1):\n",
            "STOP: TOTAL NO. of ITERATIONS REACHED LIMIT.\n",
            "\n",
            "Increase the number of iterations (max_iter) or scale the data as shown in:\n",
            "    https://scikit-learn.org/stable/modules/preprocessing.html\n",
            "Please also refer to the documentation for alternative solver options:\n",
            "    https://scikit-learn.org/stable/modules/linear_model.html#logistic-regression\n",
            "  extra_warning_msg=_LOGISTIC_SOLVER_CONVERGENCE_MSG)\n",
            "/usr/local/lib/python3.7/dist-packages/sklearn/linear_model/_logistic.py:940: ConvergenceWarning: lbfgs failed to converge (status=1):\n",
            "STOP: TOTAL NO. of ITERATIONS REACHED LIMIT.\n",
            "\n",
            "Increase the number of iterations (max_iter) or scale the data as shown in:\n",
            "    https://scikit-learn.org/stable/modules/preprocessing.html\n",
            "Please also refer to the documentation for alternative solver options:\n",
            "    https://scikit-learn.org/stable/modules/linear_model.html#logistic-regression\n",
            "  extra_warning_msg=_LOGISTIC_SOLVER_CONVERGENCE_MSG)\n",
            "/usr/local/lib/python3.7/dist-packages/sklearn/linear_model/_logistic.py:940: ConvergenceWarning: lbfgs failed to converge (status=1):\n",
            "STOP: TOTAL NO. of ITERATIONS REACHED LIMIT.\n",
            "\n",
            "Increase the number of iterations (max_iter) or scale the data as shown in:\n",
            "    https://scikit-learn.org/stable/modules/preprocessing.html\n",
            "Please also refer to the documentation for alternative solver options:\n",
            "    https://scikit-learn.org/stable/modules/linear_model.html#logistic-regression\n",
            "  extra_warning_msg=_LOGISTIC_SOLVER_CONVERGENCE_MSG)\n",
            "/usr/local/lib/python3.7/dist-packages/sklearn/linear_model/_logistic.py:940: ConvergenceWarning: lbfgs failed to converge (status=1):\n",
            "STOP: TOTAL NO. of ITERATIONS REACHED LIMIT.\n",
            "\n",
            "Increase the number of iterations (max_iter) or scale the data as shown in:\n",
            "    https://scikit-learn.org/stable/modules/preprocessing.html\n",
            "Please also refer to the documentation for alternative solver options:\n",
            "    https://scikit-learn.org/stable/modules/linear_model.html#logistic-regression\n",
            "  extra_warning_msg=_LOGISTIC_SOLVER_CONVERGENCE_MSG)\n",
            "/usr/local/lib/python3.7/dist-packages/sklearn/linear_model/_logistic.py:940: ConvergenceWarning: lbfgs failed to converge (status=1):\n",
            "STOP: TOTAL NO. of ITERATIONS REACHED LIMIT.\n",
            "\n",
            "Increase the number of iterations (max_iter) or scale the data as shown in:\n",
            "    https://scikit-learn.org/stable/modules/preprocessing.html\n",
            "Please also refer to the documentation for alternative solver options:\n",
            "    https://scikit-learn.org/stable/modules/linear_model.html#logistic-regression\n",
            "  extra_warning_msg=_LOGISTIC_SOLVER_CONVERGENCE_MSG)\n"
          ]
        },
        {
          "output_type": "execute_result",
          "data": {
            "text/plain": [
              "VotingClassifier(estimators=[('svc',\n",
              "                              GridSearchCV(cv=None, error_score=nan,\n",
              "                                           estimator=LinearSVC(C=1.0,\n",
              "                                                               class_weight=None,\n",
              "                                                               dual=True,\n",
              "                                                               fit_intercept=True,\n",
              "                                                               intercept_scaling=1,\n",
              "                                                               loss='squared_hinge',\n",
              "                                                               max_iter=1000,\n",
              "                                                               multi_class='ovr',\n",
              "                                                               penalty='l2',\n",
              "                                                               random_state=None,\n",
              "                                                               tol=0.0001,\n",
              "                                                               verbose=0),\n",
              "                                           iid='deprecated', n_jobs=None,\n",
              "                                           param_grid={'C': array([1.00000000e-05, 6.81292069e...\n",
              "                                                                            min_samples_split=2,\n",
              "                                                                            min_weight_fraction_leaf=0.0,\n",
              "                                                                            n_estimators=100,\n",
              "                                                                            n_jobs=None,\n",
              "                                                                            oob_score=False,\n",
              "                                                                            random_state=None,\n",
              "                                                                            verbose=0,\n",
              "                                                                            warm_start=False),\n",
              "                                           iid='deprecated', n_jobs=None,\n",
              "                                           param_grid={'min_samples_split': [3,\n",
              "                                                                             5,\n",
              "                                                                             7,\n",
              "                                                                             9]},\n",
              "                                           pre_dispatch='2*n_jobs', refit=True,\n",
              "                                           return_train_score=False,\n",
              "                                           scoring=None, verbose=0))],\n",
              "                 flatten_transform=True, n_jobs=None, voting='hard',\n",
              "                 weights=None)"
            ]
          },
          "metadata": {},
          "execution_count": 214
        }
      ]
    },
    {
      "cell_type": "code",
      "metadata": {
        "colab": {
          "base_uri": "https://localhost:8080/",
          "height": 734
        },
        "id": "l2kZCSNhs8bx",
        "outputId": "44c0c2b2-9fc1-49df-8e1b-c2670b54b272"
      },
      "source": [
        "# Store predictions\n",
        "y_preds = voting_clf.predict(X_val_tfidf)\n",
        "\n",
        "# # Print classification report\n",
        "print(classification_report(y_val, y_preds, target_names=['Not Recommended', 'Recommended']))\n",
        "\n",
        "# # Display confusion matrix\n",
        "make_confusion_matrix(y_val, y_preds, classes=labels)"
      ],
      "execution_count": 216,
      "outputs": [
        {
          "output_type": "display_data",
          "data": {
            "text/html": [
              "\n",
              "  <style>\n",
              "    pre {\n",
              "        white-space: pre-wrap;\n",
              "    }\n",
              "  </style>\n",
              "  "
            ],
            "text/plain": [
              "<IPython.core.display.HTML object>"
            ]
          },
          "metadata": {}
        },
        {
          "output_type": "stream",
          "name": "stdout",
          "text": [
            "                 precision    recall  f1-score   support\n",
            "\n",
            "Not Recommended       0.81      0.62      0.71       556\n",
            "    Recommended       0.86      0.94      0.90      1350\n",
            "\n",
            "       accuracy                           0.85      1906\n",
            "      macro avg       0.84      0.78      0.80      1906\n",
            "   weighted avg       0.85      0.85      0.84      1906\n",
            "\n"
          ]
        },
        {
          "output_type": "display_data",
          "data": {
            "image/png": "[encoded data removed]",
            "text/plain": [
              "<Figure size 720x720 with 2 Axes>"
            ]
          },
          "metadata": {
            "needs_background": "light"
          }
        }
      ]
    },
    {
      "cell_type": "markdown",
      "metadata": {
        "id": "bSrTR-QdxxK5"
      },
      "source": [
        "### Ensemble Learning (Naive Bayes, Log Reg, Random Forest) - Soft Voting\n",
        "\n",
        "For this ensemble, we will use the best parameters found from the previous grid searches like before. We perform soft voting this time since all of our estimator provide a predicted probability.\n"
      ]
    },
    {
      "cell_type": "code",
      "metadata": {
        "colab": {
          "base_uri": "https://localhost:8080/",
          "height": 1000
        },
        "id": "OMArQg2Lx8kT",
        "outputId": "cce57199-0cd2-47ae-988d-437aed36fc78"
      },
      "source": [
        "from sklearn.ensemble import VotingClassifier\n",
        "\n",
        "# Setup our estimators\n",
        "estimators = [('nb', nb_clf_gs), ('log_reg', log_reg_clf_gs), ('forest_clf', forest_clf_gs)]\n",
        "\n",
        "voting_clf_2 = VotingClassifier(estimators=estimators, voting='soft')\n",
        "\n",
        "# Fit the data\n",
        "voting_clf_2.fit(X_train_tfidf, y_train)"
      ],
      "execution_count": 93,
      "outputs": [
        {
          "output_type": "display_data",
          "data": {
            "text/html": [
              "\n",
              "  <style>\n",
              "    pre {\n",
              "        white-space: pre-wrap;\n",
              "    }\n",
              "  </style>\n",
              "  "
            ],
            "text/plain": [
              "<IPython.core.display.HTML object>"
            ]
          },
          "metadata": {}
        },
        {
          "output_type": "stream",
          "name": "stderr",
          "text": [
            "/usr/local/lib/python3.7/dist-packages/sklearn/linear_model/_logistic.py:940: ConvergenceWarning: lbfgs failed to converge (status=1):\n",
            "STOP: TOTAL NO. of ITERATIONS REACHED LIMIT.\n",
            "\n",
            "Increase the number of iterations (max_iter) or scale the data as shown in:\n",
            "    https://scikit-learn.org/stable/modules/preprocessing.html\n",
            "Please also refer to the documentation for alternative solver options:\n",
            "    https://scikit-learn.org/stable/modules/linear_model.html#logistic-regression\n",
            "  extra_warning_msg=_LOGISTIC_SOLVER_CONVERGENCE_MSG)\n",
            "/usr/local/lib/python3.7/dist-packages/sklearn/linear_model/_logistic.py:940: ConvergenceWarning: lbfgs failed to converge (status=1):\n",
            "STOP: TOTAL NO. of ITERATIONS REACHED LIMIT.\n",
            "\n",
            "Increase the number of iterations (max_iter) or scale the data as shown in:\n",
            "    https://scikit-learn.org/stable/modules/preprocessing.html\n",
            "Please also refer to the documentation for alternative solver options:\n",
            "    https://scikit-learn.org/stable/modules/linear_model.html#logistic-regression\n",
            "  extra_warning_msg=_LOGISTIC_SOLVER_CONVERGENCE_MSG)\n",
            "/usr/local/lib/python3.7/dist-packages/sklearn/linear_model/_logistic.py:940: ConvergenceWarning: lbfgs failed to converge (status=1):\n",
            "STOP: TOTAL NO. of ITERATIONS REACHED LIMIT.\n",
            "\n",
            "Increase the number of iterations (max_iter) or scale the data as shown in:\n",
            "    https://scikit-learn.org/stable/modules/preprocessing.html\n",
            "Please also refer to the documentation for alternative solver options:\n",
            "    https://scikit-learn.org/stable/modules/linear_model.html#logistic-regression\n",
            "  extra_warning_msg=_LOGISTIC_SOLVER_CONVERGENCE_MSG)\n",
            "/usr/local/lib/python3.7/dist-packages/sklearn/linear_model/_logistic.py:940: ConvergenceWarning: lbfgs failed to converge (status=1):\n",
            "STOP: TOTAL NO. of ITERATIONS REACHED LIMIT.\n",
            "\n",
            "Increase the number of iterations (max_iter) or scale the data as shown in:\n",
            "    https://scikit-learn.org/stable/modules/preprocessing.html\n",
            "Please also refer to the documentation for alternative solver options:\n",
            "    https://scikit-learn.org/stable/modules/linear_model.html#logistic-regression\n",
            "  extra_warning_msg=_LOGISTIC_SOLVER_CONVERGENCE_MSG)\n",
            "/usr/local/lib/python3.7/dist-packages/sklearn/linear_model/_logistic.py:940: ConvergenceWarning: lbfgs failed to converge (status=1):\n",
            "STOP: TOTAL NO. of ITERATIONS REACHED LIMIT.\n",
            "\n",
            "Increase the number of iterations (max_iter) or scale the data as shown in:\n",
            "    https://scikit-learn.org/stable/modules/preprocessing.html\n",
            "Please also refer to the documentation for alternative solver options:\n",
            "    https://scikit-learn.org/stable/modules/linear_model.html#logistic-regression\n",
            "  extra_warning_msg=_LOGISTIC_SOLVER_CONVERGENCE_MSG)\n",
            "/usr/local/lib/python3.7/dist-packages/sklearn/linear_model/_logistic.py:940: ConvergenceWarning: lbfgs failed to converge (status=1):\n",
            "STOP: TOTAL NO. of ITERATIONS REACHED LIMIT.\n",
            "\n",
            "Increase the number of iterations (max_iter) or scale the data as shown in:\n",
            "    https://scikit-learn.org/stable/modules/preprocessing.html\n",
            "Please also refer to the documentation for alternative solver options:\n",
            "    https://scikit-learn.org/stable/modules/linear_model.html#logistic-regression\n",
            "  extra_warning_msg=_LOGISTIC_SOLVER_CONVERGENCE_MSG)\n",
            "/usr/local/lib/python3.7/dist-packages/sklearn/linear_model/_logistic.py:940: ConvergenceWarning: lbfgs failed to converge (status=1):\n",
            "STOP: TOTAL NO. of ITERATIONS REACHED LIMIT.\n",
            "\n",
            "Increase the number of iterations (max_iter) or scale the data as shown in:\n",
            "    https://scikit-learn.org/stable/modules/preprocessing.html\n",
            "Please also refer to the documentation for alternative solver options:\n",
            "    https://scikit-learn.org/stable/modules/linear_model.html#logistic-regression\n",
            "  extra_warning_msg=_LOGISTIC_SOLVER_CONVERGENCE_MSG)\n",
            "/usr/local/lib/python3.7/dist-packages/sklearn/linear_model/_logistic.py:940: ConvergenceWarning: lbfgs failed to converge (status=1):\n",
            "STOP: TOTAL NO. of ITERATIONS REACHED LIMIT.\n",
            "\n",
            "Increase the number of iterations (max_iter) or scale the data as shown in:\n",
            "    https://scikit-learn.org/stable/modules/preprocessing.html\n",
            "Please also refer to the documentation for alternative solver options:\n",
            "    https://scikit-learn.org/stable/modules/linear_model.html#logistic-regression\n",
            "  extra_warning_msg=_LOGISTIC_SOLVER_CONVERGENCE_MSG)\n",
            "/usr/local/lib/python3.7/dist-packages/sklearn/linear_model/_logistic.py:940: ConvergenceWarning: lbfgs failed to converge (status=1):\n",
            "STOP: TOTAL NO. of ITERATIONS REACHED LIMIT.\n",
            "\n",
            "Increase the number of iterations (max_iter) or scale the data as shown in:\n",
            "    https://scikit-learn.org/stable/modules/preprocessing.html\n",
            "Please also refer to the documentation for alternative solver options:\n",
            "    https://scikit-learn.org/stable/modules/linear_model.html#logistic-regression\n",
            "  extra_warning_msg=_LOGISTIC_SOLVER_CONVERGENCE_MSG)\n"
          ]
        },
        {
          "output_type": "execute_result",
          "data": {
            "text/plain": [
              "VotingClassifier(estimators=[('nb',\n",
              "                              GridSearchCV(cv=None, error_score=nan,\n",
              "                                           estimator=MultinomialNB(alpha=1.0,\n",
              "                                                                   class_prior=None,\n",
              "                                                                   fit_prior=True),\n",
              "                                           iid='deprecated', n_jobs=None,\n",
              "                                           param_grid={},\n",
              "                                           pre_dispatch='2*n_jobs', refit=True,\n",
              "                                           return_train_score=False,\n",
              "                                           scoring=None, verbose=0)),\n",
              "                             ('log_reg',\n",
              "                              GridSearchCV(cv=None, error_score=nan,\n",
              "                                           estimator=LogisticRegression(C=1.0,...\n",
              "                                                                            min_samples_split=2,\n",
              "                                                                            min_weight_fraction_leaf=0.0,\n",
              "                                                                            n_estimators=100,\n",
              "                                                                            n_jobs=None,\n",
              "                                                                            oob_score=False,\n",
              "                                                                            random_state=None,\n",
              "                                                                            verbose=0,\n",
              "                                                                            warm_start=False),\n",
              "                                           iid='deprecated', n_jobs=None,\n",
              "                                           param_grid={'min_samples_split': [3,\n",
              "                                                                             5,\n",
              "                                                                             7,\n",
              "                                                                             9]},\n",
              "                                           pre_dispatch='2*n_jobs', refit=True,\n",
              "                                           return_train_score=False,\n",
              "                                           scoring=None, verbose=0))],\n",
              "                 flatten_transform=True, n_jobs=None, voting='soft',\n",
              "                 weights=None)"
            ]
          },
          "metadata": {},
          "execution_count": 93
        }
      ]
    },
    {
      "cell_type": "code",
      "metadata": {
        "colab": {
          "base_uri": "https://localhost:8080/",
          "height": 734
        },
        "id": "ztZhGjZ_zAms",
        "outputId": "4a362fb2-01fb-4d27-bf83-61ba783928d3"
      },
      "source": [
        "# Store predictions\n",
        "y_preds = voting_clf_2.predict(X_val_tfidf)\n",
        "\n",
        "# # Print classification report\n",
        "print(classification_report(y_val, y_preds, target_names=['Not Recommended', 'Recommended']))\n",
        "\n",
        "# # Display confusion matrix\n",
        "make_confusion_matrix(y_val, y_preds, classes=labels)"
      ],
      "execution_count": 99,
      "outputs": [
        {
          "output_type": "display_data",
          "data": {
            "text/html": [
              "\n",
              "  <style>\n",
              "    pre {\n",
              "        white-space: pre-wrap;\n",
              "    }\n",
              "  </style>\n",
              "  "
            ],
            "text/plain": [
              "<IPython.core.display.HTML object>"
            ]
          },
          "metadata": {}
        },
        {
          "output_type": "stream",
          "name": "stdout",
          "text": [
            "                 precision    recall  f1-score   support\n",
            "\n",
            "Not Recommended       0.80      0.46      0.58       578\n",
            "    Recommended       0.80      0.95      0.87      1326\n",
            "\n",
            "       accuracy                           0.80      1904\n",
            "      macro avg       0.80      0.70      0.73      1904\n",
            "   weighted avg       0.80      0.80      0.78      1904\n",
            "\n"
          ]
        },
        {
          "output_type": "display_data",
          "data": {
            "image/png": "[encoded data removed]",
            "text/plain": [
              "<Figure size 720x720 with 2 Axes>"
            ]
          },
          "metadata": {
            "needs_background": "light"
          }
        }
      ]
    },
    {
      "cell_type": "markdown",
      "metadata": {
        "id": "KxdUFpkHd1Qt"
      },
      "source": [
        "## Final Model Evaluation\n",
        "\n",
        "It seems like our ensemble model didn't give as much of a boost as we had hoped for. Our second model did not perform as well given we switched out our Linear SVC for Naive Baye's in order to use soft voting. After looking at our F1 scores, Accuracy, Average, and Weighted Average, it's clear that our first ensemble came out on top ever so slightly. As such, we will use it as our final model and evaluate it on our final test set."
      ]
    },
    {
      "cell_type": "code",
      "metadata": {
        "colab": {
          "base_uri": "https://localhost:8080/",
          "height": 318
        },
        "id": "pY4VlJF0BcXX",
        "outputId": "da18f61e-f4f2-4c86-f731-dd55ccd3c68a"
      },
      "source": [
        "# Create pipeline to clean test data\n",
        "def pipeline(df):\n",
        "  # Perform inital text preprocessing\n",
        "  df['clean_text'] = df['review'].apply(lambda row: clean_text(str(row)))\n",
        "  \n",
        "  # Create n_words column\n",
        "  df['n_words'] = df['clean_text'].apply(lambda row: len(row))\n",
        "\n",
        "  # Filter out reviews that have been completely removed\n",
        "  df = df[df['n_words'] != 0 ]\n",
        "\n",
        "  # Create  label encoding\n",
        "  df['rec_labels'] = df[\"recommendation\"].astype('category').cat.codes\n",
        "\n",
        "  # Remove \"game\" from both classes\n",
        "  df['clean_text'] = df['clean_text'].apply(lambda row: remove_word(row, 'game'))\n",
        "  df['clean_text'] = df['clean_text'].apply(lambda row: remove_word(row, 'a'))\n",
        "  \n",
        "  df.reset_index(inplace=True)\n",
        "\n",
        "  return df\n",
        "\n",
        "# Create subset\n",
        "steam_test = steam_test.sample(1000)\n",
        "\n",
        "# Clean test subset\n",
        "steam_test_cleaned = pipeline(steam_test)"
      ],
      "execution_count": 217,
      "outputs": [
        {
          "output_type": "display_data",
          "data": {
            "text/html": [
              "\n",
              "  <style>\n",
              "    pre {\n",
              "        white-space: pre-wrap;\n",
              "    }\n",
              "  </style>\n",
              "  "
            ],
            "text/plain": [
              "<IPython.core.display.HTML object>"
            ]
          },
          "metadata": {}
        },
        {
          "output_type": "stream",
          "name": "stderr",
          "text": [
            "/usr/local/lib/python3.7/dist-packages/ipykernel_launcher.py:13: SettingWithCopyWarning: \n",
            "A value is trying to be set on a copy of a slice from a DataFrame.\n",
            "Try using .loc[row_indexer,col_indexer] = value instead\n",
            "\n",
            "See the caveats in the documentation: https://pandas.pydata.org/pandas-docs/stable/user_guide/indexing.html#returning-a-view-versus-a-copy\n",
            "  del sys.path[0]\n",
            "/usr/local/lib/python3.7/dist-packages/ipykernel_launcher.py:16: SettingWithCopyWarning: \n",
            "A value is trying to be set on a copy of a slice from a DataFrame.\n",
            "Try using .loc[row_indexer,col_indexer] = value instead\n",
            "\n",
            "See the caveats in the documentation: https://pandas.pydata.org/pandas-docs/stable/user_guide/indexing.html#returning-a-view-versus-a-copy\n",
            "  app.launch_new_instance()\n",
            "/usr/local/lib/python3.7/dist-packages/ipykernel_launcher.py:17: SettingWithCopyWarning: \n",
            "A value is trying to be set on a copy of a slice from a DataFrame.\n",
            "Try using .loc[row_indexer,col_indexer] = value instead\n",
            "\n",
            "See the caveats in the documentation: https://pandas.pydata.org/pandas-docs/stable/user_guide/indexing.html#returning-a-view-versus-a-copy\n"
          ]
        }
      ]
    },
    {
      "cell_type": "code",
      "metadata": {
        "colab": {
          "base_uri": "https://localhost:8080/",
          "height": 16
        },
        "id": "YDQjIaLRzRZo",
        "outputId": "f1c3c4e4-4e8d-4f44-b6f3-1701bf9682d9"
      },
      "source": [
        "# Create X and y\n",
        "X_test, y_test = steam_test_cleaned['clean_text'], steam_test_cleaned['rec_labels']\n",
        "\n",
        "# Transform X_test\n",
        "X_test_tfidf = tf_idf_pipeline.transform(X_test)"
      ],
      "execution_count": 218,
      "outputs": [
        {
          "output_type": "display_data",
          "data": {
            "text/html": [
              "\n",
              "  <style>\n",
              "    pre {\n",
              "        white-space: pre-wrap;\n",
              "    }\n",
              "  </style>\n",
              "  "
            ],
            "text/plain": [
              "<IPython.core.display.HTML object>"
            ]
          },
          "metadata": {}
        }
      ]
    },
    {
      "cell_type": "code",
      "metadata": {
        "colab": {
          "base_uri": "https://localhost:8080/",
          "height": 734
        },
        "id": "bAMDC-II0066",
        "outputId": "ed461aa9-dba2-44d6-cc4a-4b0e9f7bbf4f"
      },
      "source": [
        "# Store predictions\n",
        "y_preds = voting_clf.predict(X_test_tfidf)\n",
        "\n",
        "# # Print classification report\n",
        "print(classification_report(y_test, y_preds, target_names=['Not Recommended', 'Recommended']))\n",
        "\n",
        "# # Display confusion matrix\n",
        "make_confusion_matrix(y_test, y_preds, classes=labels)"
      ],
      "execution_count": 219,
      "outputs": [
        {
          "output_type": "display_data",
          "data": {
            "text/html": [
              "\n",
              "  <style>\n",
              "    pre {\n",
              "        white-space: pre-wrap;\n",
              "    }\n",
              "  </style>\n",
              "  "
            ],
            "text/plain": [
              "<IPython.core.display.HTML object>"
            ]
          },
          "metadata": {}
        },
        {
          "output_type": "stream",
          "name": "stdout",
          "text": [
            "                 precision    recall  f1-score   support\n",
            "\n",
            "Not Recommended       0.81      0.57      0.67       325\n",
            "    Recommended       0.81      0.93      0.87       630\n",
            "\n",
            "       accuracy                           0.81       955\n",
            "      macro avg       0.81      0.75      0.77       955\n",
            "   weighted avg       0.81      0.81      0.80       955\n",
            "\n"
          ]
        },
        {
          "output_type": "display_data",
          "data": {
            "image/png": "[encoded data removed]",
            "text/plain": [
              "<Figure size 720x720 with 2 Axes>"
            ]
          },
          "metadata": {
            "needs_background": "light"
          }
        }
      ]
    },
    {
      "cell_type": "markdown",
      "metadata": {
        "id": "Nq-lFAKL2Gvq"
      },
      "source": [
        "Our final model performed well overall, really close to our validation score! Although the F1-score was slightly low for our `Not Recommended` class, the model was able to perform up to par compared to our training scores. We will be using this model for the \"Text Classification\" Component of our final project."
      ]
    },
    {
      "cell_type": "markdown",
      "metadata": {
        "id": "xwwSiFF5fpia"
      },
      "source": [
        "### Demo"
      ]
    },
    {
      "cell_type": "markdown",
      "metadata": {
        "id": "lYAiNZ5EkoF7"
      },
      "source": [
        "![image.png](data:image/png;base64,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)"
      ]
    },
    {
      "cell_type": "code",
      "metadata": {
        "colab": {
          "base_uri": "https://localhost:8080/",
          "height": 710
        },
        "id": "_YEVcSIYfnCh",
        "outputId": "0083ac80-e291-41b4-b84c-9f7933075b49"
      },
      "source": [
        "example_review = \"\"\"Single-handedly the most perfect, and refined movement shooter I've ever played. I'll never forget the first time I called down my titan in a multiplayer match-- killed some people, and felt a pure rush of energy. That energy of legitimate fun.\n",
        "The story made me cry, and the gameplay is nothing short of addicting. I love this game dearly, and I can only hope that some day, we can play it again undisturbed.\"\"\"\n",
        "\n",
        "example_review_cleaned = clean_text(example_review)\n",
        "\n",
        "example_review_cleaned"
      ],
      "execution_count": 223,
      "outputs": [
        {
          "output_type": "display_data",
          "data": {
            "text/html": [
              "\n",
              "  <style>\n",
              "    pre {\n",
              "        white-space: pre-wrap;\n",
              "    }\n",
              "  </style>\n",
              "  "
            ],
            "text/plain": [
              "<IPython.core.display.HTML object>"
            ]
          },
          "metadata": {}
        },
        {
          "output_type": "execute_result",
          "data": {
            "text/plain": [
              "['perfect',\n",
              " 'refined',\n",
              " 'movement',\n",
              " 'shooter',\n",
              " 'ever',\n",
              " 'played',\n",
              " 'ill',\n",
              " 'never',\n",
              " 'forget',\n",
              " 'first',\n",
              " 'time',\n",
              " 'called',\n",
              " 'titan',\n",
              " 'match',\n",
              " 'killed',\n",
              " 'people',\n",
              " 'felt',\n",
              " 'a',\n",
              " 'pure',\n",
              " 'rush',\n",
              " 'energy',\n",
              " 'energy',\n",
              " 'legitimate',\n",
              " 'fun',\n",
              " 'story',\n",
              " 'made',\n",
              " 'cry',\n",
              " 'nothing',\n",
              " 'short',\n",
              " 'addicting',\n",
              " 'love',\n",
              " 'game',\n",
              " 'dearly',\n",
              " 'hope',\n",
              " 'day',\n",
              " 'can',\n",
              " 'play',\n",
              " 'again',\n",
              " 'undisturbed']"
            ]
          },
          "metadata": {},
          "execution_count": 223
        }
      ]
    },
    {
      "cell_type": "code",
      "metadata": {
        "colab": {
          "base_uri": "https://localhost:8080/",
          "height": 34
        },
        "id": "ypyHAnLRgl9-",
        "outputId": "d9a2c1e9-07ab-41ab-ecfa-222900353237"
      },
      "source": [
        "# Label:  Recommended (1)\n",
        "example_review_cleaned = np.array(example_review_cleaned).reshape(1, -1)\n",
        "# print(example_review_cleaned)\n",
        "\n",
        "exampled_review_tfidf = tf_idf_pipeline.transform(example_review_cleaned)\n",
        "exampled_review_tfidf.shape"
      ],
      "execution_count": 224,
      "outputs": [
        {
          "output_type": "display_data",
          "data": {
            "text/html": [
              "\n",
              "  <style>\n",
              "    pre {\n",
              "        white-space: pre-wrap;\n",
              "    }\n",
              "  </style>\n",
              "  "
            ],
            "text/plain": [
              "<IPython.core.display.HTML object>"
            ]
          },
          "metadata": {}
        },
        {
          "output_type": "execute_result",
          "data": {
            "text/plain": [
              "(1, 10777)"
            ]
          },
          "metadata": {},
          "execution_count": 224
        }
      ]
    },
    {
      "cell_type": "code",
      "metadata": {
        "colab": {
          "base_uri": "https://localhost:8080/",
          "height": 34
        },
        "id": "DUvnIUvNg5qr",
        "outputId": "7a7997b7-e2db-4bf5-fbe4-038f3a57ec44"
      },
      "source": [
        "prediction = voting_clf.predict(exampled_review_tfidf)[0]\n",
        "print(f\"Based on this review, the game is {labels[prediction]}!\")"
      ],
      "execution_count": 225,
      "outputs": [
        {
          "output_type": "display_data",
          "data": {
            "text/html": [
              "\n",
              "  <style>\n",
              "    pre {\n",
              "        white-space: pre-wrap;\n",
              "    }\n",
              "  </style>\n",
              "  "
            ],
            "text/plain": [
              "<IPython.core.display.HTML object>"
            ]
          },
          "metadata": {}
        },
        {
          "output_type": "stream",
          "name": "stdout",
          "text": [
            "Based on this review, the game is Recommended!\n"
          ]
        }
      ]
    },
    {
      "cell_type": "markdown",
      "metadata": {
        "id": "8ldzc3-ZNHIa"
      },
      "source": [
        "# Resources:\n",
        "* EDA on Text Data / Custom function to expand contractions: https://www.analyticsvidhya.com/blog/2020/04/beginners-guide-exploratory-data-analysis-text-data/\n",
        "\n",
        "* TF-IDF Text Classification:\n",
        "https://www.analyticsvidhya.com/blog/2018/04/a-comprehensive-guide-to-understand-and-implement-text-classification-in-python/\n",
        "\n",
        "* Voting Classifiers:\n",
        "https://scikit-learn.org/stable/modules/generated/sklearn.ensemble.VotingClassifier.html\n",
        "\n",
        "* Sklearn Documentaton:\n",
        "https://scikit-learn.org/stable/\n",
        "\n",
        "* Customed Confusion Matrix (from Daniel Bourke):\n",
        "https://github.com/mrdbourke/tensorflow-deep-learning/blob/main/extras/helper_functions.py\n",
        "\n",
        "* Models chosen based on this Paper:\n",
        "http://cs229.stanford.edu/proj2017/final-reports/5244171.pdf"
      ]
    }
  ]
}